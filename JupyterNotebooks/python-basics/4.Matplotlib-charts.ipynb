{
 "cells": [
  {
   "cell_type": "code",
   "execution_count": null,
   "id": "e033a94f-4a15-47d3-a8ae-df7a3242c45a",
   "metadata": {},
   "outputs": [],
   "source": [
    "import matplotlib.pyplot as plt\n",
    "import numpy as np"
   ]
  },
  {
   "cell_type": "code",
   "execution_count": null,
   "id": "0ba4e3e9-fea0-4d4b-abca-09fdc7fd37a8",
   "metadata": {},
   "outputs": [],
   "source": [
    "# Reference : https://bookdown.org/dereksonderegger/141/4-distributions.html\n",
    "# Returns : The values of the histogram. See density and weights for a description of the possible semantics.\n",
    "\n",
    "a = [1,2,3,4,100]\n",
    "b = [3,4,3,4]\n",
    "x = [3.2,4.5,10.0]\n",
    "\n",
    "def get_bins(a, num = 10):\n",
    "    return np.linspace(min(a), max(a), num = num + 1)\n",
    "\n",
    "def get_density_by_weights(obj):\n",
    "    bins = get_bins(obj)\n",
    "    density = np.zeros(len(bins)-1, dtype='int')\n",
    "    for o in obj:\n",
    "        bin_index = None\n",
    "        for (x), value in np.ndenumerate(bins):\n",
    "            if o >= value:\n",
    "                bin_index = x\n",
    "        if bin_index is not None:\n",
    "            if len(bin_index) > 0 and bin_index[0] == len(bins) -1:\n",
    "               bin_index = bin_index[0] -1 \n",
    "            density[bin_index] = density[bin_index] + 1\n",
    "    return density, bins\n",
    "\n",
    "\n",
    "print(\"---------------------- np.histogram -------\")\n",
    "\n",
    "density_a, bins_a = np.histogram(a)\n",
    "density_b, bins_b = np.histogram(b)\n",
    "density_x, bins_x = np.histogram(x)\n",
    "\n",
    "print(\"Density of :\", a , \":\", density_a)\n",
    "print(\"Weights of :\", a , \":\", bins_a)\n",
    "print(\"Density of :\", b , \":\", density_b)\n",
    "print(\"Weights of :\", b , \":\", bins_b)\n",
    "print(\"Density of :\", x , \":\", density_x)\n",
    "print(\"Weights of :\", x , \":\", bins_x)\n",
    "\n",
    "print(\"---------------------- Computed -------\")\n",
    "\n",
    "density_a, bins_a = get_density_by_weights(a)\n",
    "density_b, bins_b = get_density_by_weights(b)\n",
    "density_x, bins_x = get_density_by_weights(x)\n",
    "\n",
    "print(\"Density of :\", a , \":\", density_a)\n",
    "print(\"Weights of :\", a , \":\", bins_a)\n",
    "print(\"Density of :\", b , \":\", density_b)\n",
    "print(\"Weights of :\", b , \":\", bins_b)\n",
    "print(\"Density of :\", x , \":\", density_x)\n",
    "print(\"Weights of :\", x , \":\", bins_x)"
   ]
  }
 ],
 "metadata": {
  "kernelspec": {
   "display_name": "Python 3 (ipykernel)",
   "language": "python",
   "name": "python3"
  },
  "language_info": {
   "codemirror_mode": {
    "name": "ipython",
    "version": 3
   },
   "file_extension": ".py",
   "mimetype": "text/x-python",
   "name": "python",
   "nbconvert_exporter": "python",
   "pygments_lexer": "ipython3",
   "version": "3.12.1"
  }
 },
 "nbformat": 4,
 "nbformat_minor": 5
}
