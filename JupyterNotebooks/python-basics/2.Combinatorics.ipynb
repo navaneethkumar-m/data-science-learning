{
 "cells": [
  {
   "cell_type": "markdown",
   "id": "5e37ac4f-d5a7-41b4-921e-9c98c4514062",
   "metadata": {},
   "source": [
    "# Combinatorics\n",
    "\n",
    "- Combinatorics is crucial is searching for best architecture among the vast space of posssible configuration\n",
    "- It will be helpful to design more efficient deep learning models\n",
    "- **Explainable AI (XAI)** : can be employed to understand the relationship between features and their contribution to the decision making process - which make more interpretable models\n",
    "- Also helps to ensure models are fair, accountable and transparent"
   ]
  },
  {
   "cell_type": "markdown",
   "id": "49e96200-881d-4f98-a8a4-92489213638c",
   "metadata": {},
   "source": [
    "#### Factorial\n",
    "\n",
    "- counting number of permutations - arranging *n* distict object in a sequence\n",
    "- factorial  = n * (n -1)!\n",
    "- Eg: 3! = 3 * 2!  or 3 * 2 * 1! or 3 * 2 * 1 = **6**"
   ]
  },
  {
   "cell_type": "code",
   "execution_count": null,
   "id": "ce0c96be-c411-4397-a477-5fed4df8c036",
   "metadata": {},
   "outputs": [],
   "source": [
    "import math\n",
    "def factorial(n):\n",
    "    if n == 0: return 1\n",
    "    return n * factorial(n - 1)\n",
    "\n",
    "n = 10\n",
    "print(\"Factorial of\", n, \" : \", factorial(n))\n",
    "print(\"Factorial (math.factorial) of\", n, \" : \", math.factorial(n))\n"
   ]
  },
  {
   "cell_type": "markdown",
   "id": "8c68ad8d-0309-43c2-b49c-021376eaa616",
   "metadata": {},
   "source": [
    "#### Permutations\n",
    "\n",
    "- number of arrangments possible with given set of objects ie. **AB != BA**, so both can exists in permuatation\n",
    "- **Formula** : nPr = n! / (n -r)!\n",
    "- Given set : (how may 2 letter words are possible)  ABC : [AB, AC, BA, BC, CA, CB] n = 3 (number of elements), r = 2 (2-letter word)\n",
    "- nPr = 3!/1! = **6**\n",
    "- Scheduling tasks, password generation, encoding, crytography\n",
    "- **Eg:** Picking a teams with Captain and follower from the group of 10 people\n",
    "  - 10P2 = 10!/(10-2)! = 10!/8! = 10 * 9 = **90** (Reference: below code)\n"
   ]
  },
  {
   "cell_type": "code",
   "execution_count": null,
   "id": "00f28f5e-8711-45ab-891e-c53888fbfaa3",
   "metadata": {},
   "outputs": [],
   "source": [
    "import itertools\n",
    "\n",
    "def factorial(n):\n",
    "    if n == 0: return 1\n",
    "    return n * factorial(n - 1)\n",
    "\n",
    "def permutation(object_size, pick_size):\n",
    "    return factorial(object_size) / (factorial(object_size - pick_size))\n",
    "\n",
    "# simple example\n",
    "#obj = ['A', 'B', 'C']\n",
    "#pick = 2\n",
    "\n",
    "# team selection example\n",
    "obj = ['A', 'B', 'C', 'D', 'E', 'F', 'G', 'H', 'I', 'J']\n",
    "pick = 2\n",
    "\n",
    "list_permutations = list(itertools.permutations(obj, pick))\n",
    "\n",
    "print(\"Permutations count :\", int(permutation(len(obj), pick)))\n",
    "print(\"Permutations objects :\", list_permutations)\n",
    "print(\"Permutations size :\", len(list_permutations))\n"
   ]
  },
  {
   "cell_type": "markdown",
   "id": "d1ae7636-f4b4-43e3-8deb-4227106cd9d0",
   "metadata": {},
   "source": [
    "#### Combinations\n",
    "\n",
    "- number of possible ways objects can be picked from a given set of objects. **AB == BA**, so either one can exists (goes left to right)\n",
    "- **Formula** : nPr = n! / (n -r)! r!\n",
    "- Given set : (how may 2 letter words are possible)  ABC : [AB, AC, BC ] n = 3 (number of elements), r = 2 (2-letter word)\n",
    "- nPr = 3!/1!2! = 6/2 =  **3**\n",
    "- Subset selection, team formation, lottery tickets\n",
    "- Eg:\n",
    "- Out of 10 runners how many combinations will be there for first 3 places?\n",
    "    - 10P3 = 10!/((10-3)! * 3!  = 10!/(7! * 3!) = (10 * 9 * 8 * 7 * 6 * 5 * 4)/(7 * 6 * 5 * 4 * 3 * 2 * 1)\n",
    "    - = (10 * 9 * 8)/(3 * 2 * 1) = 720/6 = 120\n",
    "    - = **90** (Reference: below code)\n"
   ]
  },
  {
   "cell_type": "code",
   "execution_count": null,
   "id": "dfea635b-cb2b-4cc8-8790-3f82181be47e",
   "metadata": {},
   "outputs": [],
   "source": [
    "import itertools\n",
    "\n",
    "def factorial(n):\n",
    "    if n == 0: return 1\n",
    "    return n * factorial(n - 1)\n",
    "\n",
    "def combinations(object_size, pick_size):\n",
    "    return factorial(object_size) / ((factorial(object_size - pick_size)) * factorial(pick_size))\n",
    "\n",
    "# simple example\n",
    "#obj = ['A', 'B', 'C']\n",
    "#pick = 2\n",
    "\n",
    "# runners example\n",
    "obj = ['A', 'B', 'C', 'D', 'E', 'F', 'G', 'H', 'I', 'J']\n",
    "pick = 3\n",
    "\n",
    "list_combinations = list(itertools.combinations(obj, pick))\n",
    "\n",
    "print(\"Combinations count :\", int(combinations(len(obj), pick)))\n",
    "print(\"Combinations objects :\", list_combinations)\n",
    "print(\"Combinations size :\", len(list_combinations))\n"
   ]
  },
  {
   "cell_type": "markdown",
   "id": "11524bcd-6176-475a-b00c-0bb6a57452ac",
   "metadata": {},
   "source": [
    "#### Cyclic Permutation\n",
    "\n",
    "- number of arrangments possible with given set of objects when it is arranged in circular order (order should be maintained)\n",
    "- **Formula** : (n -1)!\n",
    "- Given set : ABC : [ABC, BCA, CBA, BCA, BAC, CAB, CBA ] n = 6 (number of elements)\n",
    "- nPr = (3 - 1)! = 6/2 =  **3**\n",
    "- Subset selection, team formation, lottery tickets\n",
    "- Eg:\n",
    "- Out of 10 runners how many combinations will be there for first 3 places?\n",
    "    - 10P3 = 10!/((10-3)! * 3!  = 10!/(7! * 3!) = (10 * 9 * 8 * 7 * 6 * 5 * 4)/(7 * 6 * 5 * 4 * 3 * 2 * 1)\n",
    "    - = (10 * 9 * 8)/(3 * 2 * 1) = 720/6 = 120\n",
    "    - = **90** (Reference: below code)\n"
   ]
  },
  {
   "cell_type": "code",
   "execution_count": null,
   "id": "d2606099-ade4-4617-bbd1-9af8e306c899",
   "metadata": {},
   "outputs": [],
   "source": [
    "import math\n",
    "obj = ['A', 'B', 'C', 'D', 'E']\n",
    "\n",
    "string = 'ABCDE'\n",
    "\n",
    "num = 12345\n",
    "\n",
    "def factorial(n):\n",
    "    if n == 0: return 1\n",
    "    return n * factorial(n - 1)\n",
    "    \n",
    "def circular_combinations_count(obj):\n",
    "    return factorial(len(obj) - 1)\n",
    "\n",
    "def circular_combinations(obj):\n",
    "    n = len(obj)\n",
    "    b = [[obj[i - j] for i in range(n)] for j in range(n)]\n",
    "    return b\n",
    "\n",
    "def cyclic(N):\n",
    "    num = N;\n",
    "    n = len(str(N));\n",
    "    num_list = []\n",
    "    while (1):\n",
    "        num_list.append(int(num))\n",
    "        rem = num % 10;\n",
    "        div = math.floor(num / 10);\n",
    "        num = ((math.pow(10, n - 1)) *\n",
    "                           rem + div);\n",
    "        if (num == N):\n",
    "            break; \n",
    "    return num_list\n",
    "\n",
    "print(\"Combinations count :\", int(circular_combinations_count(string)))\n",
    "print(\"Combinations :\", circular_combinations(string))\n",
    "print(\"Combinations :\", cyclic(num))\n"
   ]
  }
 ],
 "metadata": {
  "kernelspec": {
   "display_name": "Python 3 (ipykernel)",
   "language": "python",
   "name": "python3"
  },
  "language_info": {
   "codemirror_mode": {
    "name": "ipython",
    "version": 3
   },
   "file_extension": ".py",
   "mimetype": "text/x-python",
   "name": "python",
   "nbconvert_exporter": "python",
   "pygments_lexer": "ipython3",
   "version": "3.12.1"
  }
 },
 "nbformat": 4,
 "nbformat_minor": 5
}
