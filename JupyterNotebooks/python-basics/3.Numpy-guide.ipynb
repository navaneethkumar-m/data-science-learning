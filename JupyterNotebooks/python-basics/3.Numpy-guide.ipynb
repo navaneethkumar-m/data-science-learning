{
 "cells": [
  {
   "cell_type": "code",
   "execution_count": null,
   "id": "9c6f084d-f224-4325-b757-38022c419f53",
   "metadata": {},
   "outputs": [],
   "source": [
    "import numpy as np\n",
    "print(np.version.version)"
   ]
  },
  {
   "cell_type": "markdown",
   "id": "342a22e6-7597-455f-98b7-dc0c80f4cb18",
   "metadata": {},
   "source": [
    "- Elements should be **homogeneous** - same shape"
   ]
  },
  {
   "cell_type": "code",
   "execution_count": null,
   "id": "7550eee2-7af3-4d48-9518-dedf060ecb48",
   "metadata": {},
   "outputs": [],
   "source": [
    "# printing type\n",
    "def print_type(a):\n",
    "    np_a = np.array(a)\n",
    "    print(np_a.dtype)\n",
    "    \n",
    "# printing shape\n",
    "def print_shapes(a):\n",
    "    np_a = np.array(a)\n",
    "    print(np_a.shape)\n",
    "\n",
    "# printing shape\n",
    "def print_shapes_np(a):\n",
    "    print(\"-------------------------\")\n",
    "    print(a)\n",
    "    print(a.shape)\n",
    "    print(a.dtype)\n",
    "\n",
    "def print_np(a):\n",
    "    print(\"-------------------------\")\n",
    "    print(a)"
   ]
  },
  {
   "cell_type": "code",
   "execution_count": null,
   "id": "84aed3bb-0c5e-4311-8a40-a1aae5c06366",
   "metadata": {},
   "outputs": [],
   "source": [
    "## Types\n",
    "#Example 1 - simple list - 1-D\n",
    "print_type([1,2,3,4,5])\n",
    "\n",
    "#Example 2 - nested list - 2-D\n",
    "print_type([['a','b'],['c','d'],['e','f'],['g','h']])\n",
    "\n",
    "#Example 3 - nested list - 2-D\n",
    "print_type([[1.2,2.3,3.3],[3.3,5.4,3.2],[4.2,6.4,7.2],[2.2,4.4,5.2]])\n",
    "\n",
    "#Example 4 - nested list - 3-D\n",
    "print_type([[[True,False],[False,False]]])"
   ]
  },
  {
   "cell_type": "code",
   "execution_count": null,
   "id": "27db4f2a-3e1a-4cac-9fe6-344fd9698c43",
   "metadata": {},
   "outputs": [],
   "source": [
    "## Shape\n",
    "\n",
    "#Example 1 - simple list - 1-D\n",
    "print_shapes([1,2,3,4,5])\n",
    "\n",
    "#Example 2 - nested list - 2-D\n",
    "print_shapes([['a','b'],['c','d'],['e','f'],['g','h']])\n",
    "\n",
    "#Example 3 - nested list - 2-D\n",
    "print_shapes([[1.2,2.3,3.3],[3.3,5.4,3.2],[4.2,6.4,7.2],[2.2,4.4,5.2]])\n",
    "\n",
    "#Example 4 - nested list - 3-D\n",
    "print_shapes([[[1,2],[3,4]]])"
   ]
  },
  {
   "cell_type": "code",
   "execution_count": null,
   "id": "eb77d90f-4343-4772-ac31-8952e1f9b3d6",
   "metadata": {},
   "outputs": [],
   "source": [
    "#arange\n",
    "print_shapes_np(np.arange(60))\n",
    "print_shapes_np(np.arange(0, 10, dtype= float))\n",
    "print_shapes_np(np.arange(20, 30, 2, dtype=int))"
   ]
  },
  {
   "cell_type": "code",
   "execution_count": null,
   "id": "a3298557-b2d9-4782-b7fc-149f88894642",
   "metadata": {},
   "outputs": [],
   "source": [
    "#reshape\n",
    "print_shapes_np(np.arange(60).reshape([10, 6]))\n",
    "print_shapes_np(np.arange(0, 16, dtype= float).reshape([4, 4]))\n",
    "print_shapes_np(np.arange(20, 51, 2, dtype=int).reshape([2, 2, 2, 2]))"
   ]
  },
  {
   "cell_type": "code",
   "execution_count": null,
   "id": "c90cbc67-f8c5-4a16-89e1-e027f87e297a",
   "metadata": {},
   "outputs": [],
   "source": [
    "#slice\n",
    "a = np.arange(60).reshape(3,4,5)\n",
    "\n",
    "print_np(a)\n",
    "print_np(a[1])\n",
    "print_np(a[1, 1])\n",
    "print_np(a[1,...,3])\n",
    "print_np(a[:,...,3])\n",
    "print_np(a[:,:,2])\n",
    "print_np(a[:,::,1])"
   ]
  },
  {
   "cell_type": "code",
   "execution_count": null,
   "id": "4260cf0a-9adf-4532-9c52-e361c52f240a",
   "metadata": {},
   "outputs": [],
   "source": [
    "#multiple\n",
    "a = np.arange(6, 10)\n",
    "b = np.arange(12, 16)\n",
    "\n",
    "x1 = np.arange(9.0).reshape((3, 3))\n",
    "x2 = np.arange(3.0)\n",
    "\n",
    "print_np(a)\n",
    "print_np(b)\n",
    "\n",
    "print_np(a * 2)\n",
    "print_np(a * b)\n",
    "\n",
    "print_np(x1)\n",
    "print_np(x2)\n",
    "\n",
    "print_np(np.multiply(x1, x2))"
   ]
  },
  {
   "cell_type": "code",
   "execution_count": null,
   "id": "7501c8eb-43ff-422e-8ee7-a2b6378fd3af",
   "metadata": {},
   "outputs": [],
   "source": [
    "#zeros\n",
    "#ones\n",
    "#add\n",
    "a = np.zeros((4,2))\n",
    "b = np.ones((8,1)).reshape((4, 2))\n",
    "print_np(b + b + a + b[2:].flat[3])\n",
    "print_np(np.add(b, np.add(b, np.add(a, b[2:].flat[3]))))"
   ]
  },
  {
   "cell_type": "code",
   "execution_count": null,
   "id": "0a4b597b-3379-49c2-addd-8207ea8b8d1f",
   "metadata": {},
   "outputs": [],
   "source": [
    "#tolist\n",
    "a = np.array([[1,2,3],[4,5,6]]);\n",
    "print_np(a)\n",
    "print(type(a))\n",
    "a_list = a.tolist()\n",
    "print(a_list)\n",
    "print(type(a_list))"
   ]
  },
  {
   "cell_type": "code",
   "execution_count": null,
   "id": "32f31de4-3174-4b93-adbe-e4f8d29a95f3",
   "metadata": {},
   "outputs": [],
   "source": [
    "#item\n",
    "a = np.array([[1,2,3],[4,5,6]])\n",
    "a1 = a[0,0].item()\n",
    "print_np(a)\n",
    "print(type(a))\n",
    "print_np(a1)\n",
    "print(type(a1))\n",
    "\n",
    "b1 = a[0,0]\n",
    "print_np(b1)\n",
    "print(type(b1))\n",
    "\n",
    "a.tofile(\"file.txt\")"
   ]
  },
  {
   "cell_type": "code",
   "execution_count": null,
   "id": "253a0a12-35e8-452a-838c-0d1b17972903",
   "metadata": {},
   "outputs": [],
   "source": [
    "#getfield\n",
    "a = np.array(['Hello', 'World', 'Python'])\n",
    "print_np(a.getfield('S2'))"
   ]
  },
  {
   "cell_type": "code",
   "execution_count": null,
   "id": "f85c1aa4-ccbd-4fa6-a5e2-6895e0ff2779",
   "metadata": {},
   "outputs": [],
   "source": [
    "#transpose\n",
    "#strides\n",
    "a = np.arange(10).reshape((1,2,5))\n",
    "b1 = a.transpose()\n",
    "\n",
    "print_np(a)\n",
    "print(a.shape)\n",
    "print(a.strides)\n",
    "print_np(b1)\n",
    "print(b1.shape)\n",
    "print(b1.strides)"
   ]
  },
  {
   "cell_type": "code",
   "execution_count": null,
   "id": "0b284a87-714e-465c-9c7a-d8526223b4c3",
   "metadata": {},
   "outputs": [],
   "source": [
    "#compare - returns boolean values in the array structure\n",
    "#nonzero - returns non-zero value indexes \n",
    "#compress - returns elements based on condition\n",
    "#diagonal - returns diagonal list\n",
    "x = np.arange(15)\n",
    "x1 = (x % 2 == 0)\n",
    "x_x1 = x * x1\n",
    "x_x1_nonzero = x_x1.nonzero()\n",
    "\n",
    "d=np.array([0,1,2,3])\n",
    "d1 = d.compress(d > 1)\n",
    "\n",
    "print_np(x1)\n",
    "print_np(x_x1)\n",
    "print(x_x1.shape)\n",
    "print_np(x_x1_nonzero)\n",
    "print(len(x_x1_nonzero))\n",
    "\n",
    "print_np(d1)\n",
    "\n",
    "#diagonal\n",
    "a=np.arange(25).reshape(5,5)\n",
    "print_np(a)\n",
    "\n",
    "#fliplr\n",
    "a_fliplr=np.fliplr(a)\n",
    "print_np(a_fliplr)\n",
    "\n",
    "#flipud\n",
    "a_flipud=np.flipud(a)\n",
    "print_np(a_flipud)\n",
    "\n",
    "a1 = a.diagonal()\n",
    "print(type(a1))\n",
    "\n",
    "print_np(a1)\n",
    "print_np(a.diagonal(1))\n",
    "print_np(a.diagonal(-1))\n",
    "print_np(a_fliplr.diagonal(0))"
   ]
  },
  {
   "cell_type": "code",
   "execution_count": null,
   "id": "175ed3b0-3cec-423f-b1c3-ba61d5706b95",
   "metadata": {},
   "outputs": [],
   "source": [
    "#min\n",
    "#max\n",
    "#mean\n",
    "#std\n",
    "\n",
    "#argmin\n",
    "#argmax\n",
    "a=np.arange(9).reshape(3,3)\n",
    "a1 = (a % 2 == 0)\n",
    "a_a1 = a * a1\n",
    "\n",
    "a2 = (a_a1 < 1) * a\n",
    "a_a2 = a * a2\n",
    "\n",
    "a3 = (a_a1 % 3) * a\n",
    "a_a3 = (a + a3)\n",
    "\n",
    "val = a_a3.clip(0,6) # normalises the values\n",
    "\n",
    "print(val.min())\n",
    "print(val.max())\n",
    "print(val.mean())\n",
    "print(val.std())\n",
    "\n",
    "print(val.argmin())\n",
    "print(val.argmax())\n",
    "print(val.ptp()) # difference between min and max value\n",
    "\n",
    "print(val)\n",
    "print(val.sum())\n",
    "print(val.cumsum())\n",
    "print(val.prod())\n",
    "print(val.cumprod())\n",
    "\n",
    "print(val.all(1))\n",
    "print(val.any(0))"
   ]
  },
  {
   "cell_type": "code",
   "execution_count": null,
   "id": "d3671d9c-b803-4b7a-9ef1-caf526af2ecd",
   "metadata": {},
   "outputs": [],
   "source": [
    "a = [2,3,5]\n",
    "print(np.multiply(a, 1))\n",
    "print(np.multiply.reduce(a))"
   ]
  },
  {
   "cell_type": "code",
   "execution_count": null,
   "id": "fda98204-8a08-405e-82d4-0dd844c7abf5",
   "metadata": {},
   "outputs": [],
   "source": [
    "a = [2,3,5]\n",
    "b = [2,3,6]\n",
    "print(a.__lt__(b))\n",
    "print(a.__le__(b))\n",
    "print(a.__gt__(b))\n",
    "print(a.__ge__(b))\n",
    "print(a.__eq__(b))\n",
    "print(a.__ne__(b))"
   ]
  },
  {
   "cell_type": "code",
   "execution_count": null,
   "id": "247cef49-712c-4ff8-b757-d5b78281ffba",
   "metadata": {},
   "outputs": [],
   "source": [
    "#indices\n",
    "#fromfunction\n",
    "#lexsort\n",
    "#take\n",
    "\n",
    "a = (2,3)\n",
    "print(np.indices(a))\n",
    "print(np.fromfunction(lambda i,j: i+j, a))\n",
    "\n",
    "a = [1,2,1,3,1,5]\n",
    "b = [1,4,5,6,2,3]\n",
    "\n",
    "a1 = [1,2,1]\n",
    "b1 = [1,4,5]\n",
    "\n",
    "print(\"------------------\")\n",
    "ind = np.lexsort((b,a))\n",
    "print(ind)\n",
    "print(np.take(a,ind))\n",
    "print(np.take(b,ind))\n",
    "\n",
    "print('------------ outer ------')\n",
    "print(np.outer(a, b))\n",
    "print('------------ cross ------')\n",
    "print(a1)\n",
    "print(b1)\n",
    "print(np.cross(a1, b1))\n",
    "\n",
    "print('------------ concatenate ------')\n",
    "\n",
    "a1 = np.array([[1, 2], [3, 4]])\n",
    "b1 = np.array([[5, 6]])\n",
    "print(np.concatenate((a1, b1), axis=0))"
   ]
  },
  {
   "cell_type": "code",
   "execution_count": null,
   "id": "5f60a334-c4b7-42e4-adea-7ce80be7091d",
   "metadata": {},
   "outputs": [],
   "source": [
    "#meshgrid\n",
    "X,Y = np.meshgrid([1,2,3], [4,5,6,7])\n",
    "print(X)\n",
    "print(Y)"
   ]
  },
  {
   "cell_type": "code",
   "execution_count": null,
   "id": "34e0a03d-e16a-4d45-a6d3-afb95d9afe8e",
   "metadata": {},
   "outputs": [],
   "source": [
    "p = np.poly1d([2,2,2])\n",
    "print(p)\n",
    "print(p * [2, 2, 2])"
   ]
  },
  {
   "cell_type": "code",
   "execution_count": null,
   "id": "25cbe3dc-0071-4b72-aef1-eaf9cd072b8d",
   "metadata": {},
   "outputs": [],
   "source": [
    "#Set operations\n",
    "a = [1,2,3]\n",
    "b = [1,4,5]\n",
    "\n",
    "print(np.union1d(a,b))\n",
    "print(np.intersect1d(a,b))\n",
    "print(np.in1d(4,b))\n",
    "print(np.isin(4,b))\n",
    "\n",
    "print(np.setdiff1d(a,b))\n",
    "print(np.setxor1d(a,b))"
   ]
  },
  {
   "cell_type": "code",
   "execution_count": null,
   "id": "7968d4df-8dbf-4f8f-8196-08d03b900a23",
   "metadata": {},
   "outputs": [],
   "source": [
    "#matrics\n",
    "a = np.matrix([[1,2,3],[4,5,6],[7,8,9]])\n",
    "b = np.matrix([0,2,1])\n",
    "print(a.dot(3))"
   ]
  },
  {
   "cell_type": "code",
   "execution_count": null,
   "id": "3c6c42e7-dba5-4c36-aac1-803a6747a1cd",
   "metadata": {},
   "outputs": [],
   "source": [
    "a = np.array([[1,2,3], [4,5,6]])\n",
    "print(\" ----- enumerate ----\")\n",
    "for i, val in enumerate(a):\n",
    "    print(i, val)\n",
    "print(\" ----- enumerate ::: flatten----\")\n",
    "for i, val in enumerate(a.flatten()):\n",
    "    print(i, val)\n",
    "print(\" ----- ndenumerate ----\")\n",
    "for i, val in np.ndenumerate(a):\n",
    "    print(i, val)\n",
    "print(\" ----- broadcast ----\")\n",
    "for val in np.broadcast(a):\n",
    "    print(val)"
   ]
  },
  {
   "cell_type": "code",
   "execution_count": null,
   "id": "b849e140-d914-4e8b-ac5a-f08a11e9fe1e",
   "metadata": {},
   "outputs": [],
   "source": [
    "a = np.array([[2,2,5], [4,5,6]])\n",
    "b = [1,1]\n",
    "print(\"------ reduce ---- \")\n",
    "print(np.multiply.reduce(a))\n",
    "\n",
    "print(\"------ reduce at---- \")\n",
    "print(np.remainder.reduceat(a, [1,1]))\n",
    "\n",
    "print(\"------ accumulate ---- \")\n",
    "print(np.add.accumulate(a))\n",
    "print(\"------ outer ---- \")\n",
    "print(np.divide.outer(a, b))\n",
    "print(\"------ at ---- \")\n",
    "print(np.negative.at(a, b))"
   ]
  },
  {
   "cell_type": "code",
   "execution_count": null,
   "id": "0d953c8a-b771-4825-8ebe-23f9a1aed62d",
   "metadata": {},
   "outputs": [],
   "source": [
    "import numpy.linalg as lin\n",
    "\n",
    "a = np.array([[1, 3], [3, 7]])\n",
    "\n",
    "a1 = np.array([[1, 3], [3, 7]])\n",
    "\n",
    "print(lin.inv(a))\n",
    "print(lin.solve(a, [1, 1]))\n"
   ]
  }
 ],
 "metadata": {
  "kernelspec": {
   "display_name": "Python 3 (ipykernel)",
   "language": "python",
   "name": "python3"
  },
  "language_info": {
   "codemirror_mode": {
    "name": "ipython",
    "version": 3
   },
   "file_extension": ".py",
   "mimetype": "text/x-python",
   "name": "python",
   "nbconvert_exporter": "python",
   "pygments_lexer": "ipython3",
   "version": "3.12.1"
  }
 },
 "nbformat": 4,
 "nbformat_minor": 5
}
