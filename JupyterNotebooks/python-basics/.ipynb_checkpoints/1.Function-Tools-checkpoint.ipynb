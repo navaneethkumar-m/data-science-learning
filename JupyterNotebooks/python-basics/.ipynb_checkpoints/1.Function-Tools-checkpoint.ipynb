{
 "cells": [
  {
   "cell_type": "markdown",
   "id": "1421f29d-61a6-470a-ac90-cde07e1ac0bc",
   "metadata": {},
   "source": [
    "### @lru_cache Decorator\n",
    "\n",
    "- cached on the first call and subsequent call, value from cache will be retuned\n",
    "- Version 3.2+"
   ]
  },
  {
   "cell_type": "code",
   "execution_count": 81,
   "id": "a467af5d-8969-496d-b240-ce82689654c5",
   "metadata": {},
   "outputs": [
    {
     "name": "stdout",
     "output_type": "stream",
     "text": [
      "CacheInfo(hits=0, misses=1, maxsize=128, currsize=1)\n",
      "CacheInfo(hits=0, misses=2, maxsize=128, currsize=2)\n",
      "CacheInfo(hits=0, misses=3, maxsize=128, currsize=3)\n",
      "Without cache first call for each value --- 0.00080108642578125 seconds ---\n",
      "CacheInfo(hits=1, misses=3, maxsize=128, currsize=3)\n",
      "CacheInfo(hits=2, misses=3, maxsize=128, currsize=3)\n",
      "CacheInfo(hits=3, misses=3, maxsize=128, currsize=3)\n",
      "With cache subsequent call for each value --- 0.00029277801513671875 seconds ---\n"
     ]
    }
   ],
   "source": [
    "from functools import lru_cache\n",
    "import time\n",
    "@lru_cache\n",
    "def factorial_with_cache(n):\n",
    "    return n * factorial(n-1) if n else 1\n",
    "\n",
    "start_time = time.time()\n",
    "factorial_with_cache(300)\n",
    "print(factorial_with_cache.cache_info())\n",
    "factorial_with_cache(400)\n",
    "print(factorial_with_cache.cache_info())\n",
    "factorial_with_cache(500)\n",
    "\n",
    "print(factorial_with_cache.cache_info())\n",
    "print(\"Without cache first call for each value --- %s seconds ---\" % (time.time() - start_time))\n",
    "\n",
    "start_time = time.time()\n",
    "factorial_with_cache(300)\n",
    "print(factorial_with_cache.cache_info())\n",
    "factorial_with_cache(400)\n",
    "print(factorial_with_cache.cache_info())\n",
    "factorial_with_cache(500)\n",
    "\n",
    "print(factorial_with_cache.cache_info())\n",
    "print(\"With cache subsequent call for each value --- %s seconds ---\" % (time.time() - start_time))"
   ]
  },
  {
   "cell_type": "markdown",
   "id": "0f4c1e49-5b34-4d36-aa00-85b11b3ee1aa",
   "metadata": {},
   "source": [
    "### @cache Decorator\n",
    "\n",
    "- cached on the first call and subsequent call, value from cache will be retuned\n",
    "- it never needs to evict old values, this is smaller and faster than lru_cache() with a size limit.\n",
    "- Version 3.9+\n",
    "- same as @lru_cache(maxsize=None)"
   ]
  },
  {
   "cell_type": "code",
   "execution_count": 82,
   "id": "ba491ef0-ba7c-4043-a5da-6886bba54ac9",
   "metadata": {},
   "outputs": [
    {
     "name": "stdout",
     "output_type": "stream",
     "text": [
      "CacheInfo(hits=0, misses=1, maxsize=None, currsize=1)\n",
      "CacheInfo(hits=0, misses=2, maxsize=None, currsize=2)\n",
      "CacheInfo(hits=0, misses=3, maxsize=None, currsize=3)\n",
      "Without cache first call for each value --- 0.0010209083557128906 seconds ---\n",
      "CacheInfo(hits=1, misses=3, maxsize=None, currsize=3)\n",
      "CacheInfo(hits=2, misses=3, maxsize=None, currsize=3)\n",
      "CacheInfo(hits=3, misses=3, maxsize=None, currsize=3)\n",
      "With cache subsequent call for each value --- 0.0002732276916503906 seconds ---\n"
     ]
    }
   ],
   "source": [
    "from functools import cache\n",
    "import time\n",
    "@cache\n",
    "def factorial_with_cache(n):\n",
    "    return n * factorial(n-1) if n else 1\n",
    "\n",
    "start_time = time.time()\n",
    "factorial_with_cache(300)\n",
    "print(factorial_with_cache.cache_info())\n",
    "factorial_with_cache(400)\n",
    "print(factorial_with_cache.cache_info())\n",
    "factorial_with_cache(500)\n",
    "\n",
    "print(factorial_with_cache.cache_info())\n",
    "print(\"Without cache first call for each value --- %s seconds ---\" % (time.time() - start_time))\n",
    "\n",
    "start_time = time.time()\n",
    "factorial_with_cache(300)\n",
    "print(factorial_with_cache.cache_info())\n",
    "factorial_with_cache(400)\n",
    "print(factorial_with_cache.cache_info())\n",
    "factorial_with_cache(500)\n",
    "\n",
    "print(factorial_with_cache.cache_info())\n",
    "print(\"With cache subsequent call for each value --- %s seconds ---\" % (time.time() - start_time))"
   ]
  },
  {
   "cell_type": "markdown",
   "id": "6d16aea6-5bcc-42e7-8338-fd1177b67592",
   "metadata": {},
   "source": [
    "### partial\n",
    "\n",
    "- is used for partial function application which **“freezes” some portion of a function’s arguments and/or keywords** resulting in a new object with a **simplified signature**."
   ]
  },
  {
   "cell_type": "code",
   "execution_count": 102,
   "id": "b1332dd8-e2c8-41cd-9711-31344a241577",
   "metadata": {},
   "outputs": [
    {
     "name": "stdout",
     "output_type": "stream",
     "text": [
      "100\n"
     ]
    }
   ],
   "source": [
    "from functools import partial\n",
    "\n",
    "def find_largest_number(a, b):\n",
    "    return a if a > b else b \n",
    "\n",
    "largest_number = partial(find_largest_number)\n",
    "print(largest_number(100, 99))"
   ]
  },
  {
   "cell_type": "markdown",
   "id": "54a77ffe-40e5-4f0f-b5b8-92cf8759d569",
   "metadata": {},
   "source": [
    "### reduce\n",
    "\n",
    "- **Apply function of two arguments cumulatively** to the items of iterable, from left to right, so as to **reduce the iterable to a single value**."
   ]
  },
  {
   "cell_type": "code",
   "execution_count": 139,
   "id": "57579bab-f574-4933-b5ef-8a7ffec64156",
   "metadata": {},
   "outputs": [
    {
     "name": "stdout",
     "output_type": "stream",
     "text": [
      "Sum ::  15\n",
      "Greatest number ::  5\n",
      "Longest String list ::  Jupiter\n",
      "Longest String set ::  Jupiter\n",
      "Longest String dictionary ::  Mercury\n"
     ]
    }
   ],
   "source": [
    "from functools import reduce\n",
    "\n",
    "print(\"Sum :: \", reduce(lambda x, y: x+y, [1, 2, 3, 4, 5]))\n",
    "\n",
    "print(\"Greatest number :: \", reduce(lambda x, y: x if x > y else y , [1, 2, 3, 4, 5]))\n",
    "\n",
    "print(\"Longest String list :: \", reduce(lambda x, y: x if len(x) > len(y) else y , ['Jupiter', 'Earth', 'Sun'])) # list\n",
    "\n",
    "print(\"Longest String set :: \", reduce(lambda x, y: x if len(x) > len(y) else y , {'Jupiter', 'Earth', 'Sun'})) # set\n",
    "\n",
    "print(\"Longest String dictionary :: \", reduce(lambda x, y: x if len(x) > len(y) else y , {'Mercury' : 1, 'Venus' : 2, 'Sun' : 3})) # dictionary\n",
    "\n",
    "## to-do Lambda - dictionary access values"
   ]
  },
  {
   "cell_type": "markdown",
   "id": "01b24237-4274-4e5b-9990-a843edb2b874",
   "metadata": {},
   "source": [
    "### wraps\n",
    "\n",
    "- This method will provide wrapper for other function."
   ]
  },
  {
   "cell_type": "code",
   "execution_count": 140,
   "id": "c7c9d5ce-c64e-4220-9aee-01736513c138",
   "metadata": {},
   "outputs": [],
   "source": [
    "from functools import wraps\n",
    "\n",
    "\n",
    "\n",
    "def hello_world():\n",
    "    print('Hello world')\n",
    "\n",
    "def keep_going():\n",
    "    print('Keep going')"
   ]
  }
 ],
 "metadata": {
  "kernelspec": {
   "display_name": "Python 3 (ipykernel)",
   "language": "python",
   "name": "python3"
  },
  "language_info": {
   "codemirror_mode": {
    "name": "ipython",
    "version": 3
   },
   "file_extension": ".py",
   "mimetype": "text/x-python",
   "name": "python",
   "nbconvert_exporter": "python",
   "pygments_lexer": "ipython3",
   "version": "3.12.1"
  }
 },
 "nbformat": 4,
 "nbformat_minor": 5
}
