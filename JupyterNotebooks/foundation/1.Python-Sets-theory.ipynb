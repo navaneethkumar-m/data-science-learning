{
 "cells": [
  {
   "cell_type": "markdown",
   "id": "23fe30a0-249d-4af6-9e6a-ff1781406e3e",
   "metadata": {},
   "source": [
    "# Set Theory in Python"
   ]
  },
  {
   "cell_type": "markdown",
   "id": "ef81a605-37e5-4381-a535-ccd15c810446",
   "metadata": {},
   "source": [
    "* unordered\n",
    "* unique\n",
    "* mutable but can have only immutable elements\n",
    "* elements are case-sensitive Eg : 'apple' & 'Apple' are considered as different elements"
   ]
  },
  {
   "cell_type": "markdown",
   "id": "1260621d-f8c3-4a49-9eab-9e77166e9733",
   "metadata": {},
   "source": [
    "**1. Defining a Set**"
   ]
  },
  {
   "cell_type": "code",
   "execution_count": null,
   "id": "3a7aa28e-5e6d-46cc-b3d3-7a823c42e733",
   "metadata": {},
   "outputs": [],
   "source": [
    "A = {1, 2, 3}\n",
    "B = {4, 5, 6}\n",
    "\n",
    "print(\"A :: \" , A)\n",
    "print(\"B :: \" , B)"
   ]
  },
  {
   "cell_type": "code",
   "execution_count": null,
   "id": "dd439c6f-151c-4ecc-b715-73d21726e423",
   "metadata": {},
   "outputs": [],
   "source": [
    "# B : vowels in English Alphabet\n",
    "B = {'a', 'e', 'i', 'o', 'u'}"
   ]
  },
  {
   "cell_type": "code",
   "execution_count": null,
   "id": "7d20bda0-79e5-41ac-aaa7-e644dfd76254",
   "metadata": {},
   "outputs": [],
   "source": [
    "# C : prime numbers less than 15\n",
    "C = {2, 3, 5, 7, 11}"
   ]
  },
  {
   "cell_type": "code",
   "execution_count": null,
   "id": "3cb06631-9d63-4adb-b5e3-97cb232c41aa",
   "metadata": {},
   "outputs": [],
   "source": [
    "# D : basic colors\n",
    "C = {'red', 'blue', 'green', 'Green'}\n",
    "print(C) # Case-sensitive : will be printing both 'green' & 'Green'"
   ]
  },
  {
   "cell_type": "markdown",
   "id": "d9788e5a-23df-41c1-8f69-bac563318c1d",
   "metadata": {},
   "source": [
    "**Complement**\n",
    "* Set contains all elements from the universal set excluding the elements of the Set for which it is complementing\n",
    "* In the below example U - Universal set and A - Sub set of U, then A_ - is the complement of A. U = A + A_"
   ]
  },
  {
   "cell_type": "code",
   "execution_count": null,
   "id": "c450bc0e-fb44-4d87-ac35-53be0ba9f9ed",
   "metadata": {},
   "outputs": [],
   "source": [
    "#Univeral Set : 1 - 10\n",
    "U = {1,2,3,4,5,6,7,8,9,10}"
   ]
  },
  {
   "cell_type": "code",
   "execution_count": null,
   "id": "6b9f272e-b428-41ae-9dca-bceb2b5b35fa",
   "metadata": {},
   "outputs": [],
   "source": [
    "#A - Set of even number between 1 - 10\n",
    "A = {2, 4, 6, 8, 10}"
   ]
  },
  {
   "cell_type": "code",
   "execution_count": null,
   "id": "3b9ce90a-8192-4f01-83cc-cfe4590f9739",
   "metadata": {},
   "outputs": [],
   "source": [
    "# complement of A from the Universal Set : A_\n",
    "A_ = U - A\n",
    "print(A_)"
   ]
  },
  {
   "cell_type": "code",
   "execution_count": null,
   "id": "ad119bde-80f5-4fb6-8b79-92e749ff6d9f",
   "metadata": {},
   "outputs": [],
   "source": [
    "B = A.union(A_)"
   ]
  },
  {
   "cell_type": "code",
   "execution_count": null,
   "id": "22629227-ccb0-4323-b37f-760a41cd08d2",
   "metadata": {},
   "outputs": [],
   "source": [
    "print(\" U :: \", U)\n",
    "print(\" A :: \", A)\n",
    "print(\" A_ :: \", A_)\n",
    "print(\" B :: \", B)\n",
    "print(\" Checking whether U is Equal to B :: \", (U == B))"
   ]
  },
  {
   "cell_type": "markdown",
   "id": "0ba9da0a-aced-4774-a4be-83461eb1d3ff",
   "metadata": {},
   "source": [
    "**Cardinality - Size of the Set**"
   ]
  },
  {
   "cell_type": "code",
   "execution_count": null,
   "id": "75accae0-207e-42c4-9483-63b00688329d",
   "metadata": {},
   "outputs": [],
   "source": [
    "list_of_countries = {'India', 'Pakistan', 'Srilanka', 'Bangladesh'}\n",
    "print(\"Cardinality/Size of the Set :: \", len(list_of_countries))"
   ]
  },
  {
   "cell_type": "markdown",
   "id": "e519f19b-33c2-44ea-a705-d4dd13c6e176",
   "metadata": {},
   "source": [
    "**Equipotent**\n",
    "* Sets having same cardinality by different elements"
   ]
  },
  {
   "cell_type": "markdown",
   "id": "a3a32250-7c57-4c54-bd07-1111867ebb39",
   "metadata": {},
   "source": [
    "**Equivalent or Identical sets**\n",
    "* Sets having same cardinality and same elements - order doesn't matter in sets"
   ]
  },
  {
   "cell_type": "code",
   "execution_count": null,
   "id": "141ed33f-6631-4611-a151-4d4f91e911ae",
   "metadata": {},
   "outputs": [],
   "source": [
    "first = {1,2,3,4}\n",
    "second = {'red', 'blue', 'black'}\n",
    "third = {5,6,7,8}\n",
    "fourth = {'blue', 'red', 'black'}\n",
    "\n",
    "print(\"Checking whether first is Equal to second :: \", (first == second))\n",
    "print(\"Checking whether first is Equal to third :: \", (first == third))\n",
    "print(\"Checking whether first is Equal to fourth :: \", (first == fourth))\n",
    "print(\"Checking whether second is Equal to third :: \", (second == third))\n",
    "print(\"Checking whether second is Equal to fourth :: \", (second == fourth)) # Equivalent, all remaining are Equipotent\n",
    "print(\"Checking whether third is Equal to fourth :: \", (third == fourth))\n"
   ]
  },
  {
   "cell_type": "code",
   "execution_count": null,
   "id": "2f18109d-776b-4d6a-8b95-0dfab4cf36da",
   "metadata": {},
   "outputs": [],
   "source": [
    "empty1 = {}\n",
    "empty2 = {}\n",
    "print(\"Checking whether empty1 is Equal to empty2 :: \", (empty1 == empty2))"
   ]
  },
  {
   "cell_type": "markdown",
   "id": "7be8a818-f3cb-4972-8944-8af742ae99d1",
   "metadata": {},
   "source": [
    "**Alternative method for creating Set in Python**\n",
    "* **frozenset** - Immutable Set, can be added to Set "
   ]
  },
  {
   "cell_type": "code",
   "execution_count": null,
   "id": "0dd7d6f5-6335-420a-8bd1-d3928c79adb5",
   "metadata": {},
   "outputs": [],
   "source": [
    "asian_countries = {'India', 'Pakistan', 'Srilanka', 'Bangladesh'}\n",
    "australian_countries = set({'Australia', 'New Zealand'}) # another way of representing Set\n",
    "countries = {'America', frozenset(asian_countries), frozenset(australian_countries)}\n",
    "print(\"Asian countries :: \", asian_countries)\n",
    "print(\"Australian countries :: \", australian_countries)\n",
    "print('Countries :: ', countries)"
   ]
  },
  {
   "cell_type": "markdown",
   "id": "791da9d2-2b67-4aed-807e-873b41901a51",
   "metadata": {},
   "source": [
    "**Is Element Exist**\n",
    "* returns boolean value based on element existence in the set"
   ]
  },
  {
   "cell_type": "code",
   "execution_count": null,
   "id": "84c3880e-3769-4b68-a542-0ad561cc49ae",
   "metadata": {},
   "outputs": [],
   "source": [
    "sports = {'cricket', 'football', 'baseball'}\n",
    "\n",
    "print(\"Is criket exists in the set ? \" ,(\"cricket\" in sports))\n",
    "print(\"Is football exists in the set ? \", (\"football\" in sports))\n",
    "print(\"Is basketball exists in the set ? \", (\"basketball\" in sports))"
   ]
  },
  {
   "cell_type": "markdown",
   "id": "d54982f4-9317-4fc1-a2f9-6289095414b0",
   "metadata": {},
   "source": [
    "**Singleton Set**\n",
    "* Having only single element in the set"
   ]
  },
  {
   "cell_type": "code",
   "execution_count": null,
   "id": "edac2fb6-766b-44a5-96b8-015c06c31c66",
   "metadata": {},
   "outputs": [],
   "source": [
    "a = {'black'}\n",
    "b = {'rock'}\n",
    "print( \"Example for Singleton Sets :: \", a, b)"
   ]
  },
  {
   "cell_type": "markdown",
   "id": "ca2a6cee-3fca-478c-8be5-c7d4e0af738e",
   "metadata": {},
   "source": [
    "**Subset**\n",
    "* A subset of element from Superset is contained in the Subset\n",
    "* **Improper Subset or Trivial subset** - both Superset and Subset are having same set of elements. Superset >= Subset\n",
    "* **Proper Subset** - Subset is having less number of elements of Superset. Superset >= Subset\n",
    "* A set is a **improper** subset of itself\n",
    "* Operator : **<=**"
   ]
  },
  {
   "cell_type": "code",
   "execution_count": null,
   "id": "b9b1d561-8f6c-4e24-b61a-a177b9c7bc87",
   "metadata": {},
   "outputs": [],
   "source": [
    "animals = {'lion', 'cat', 'whale', 'snake'}\n",
    "reptiles = {'snake'}\n",
    "domestic = {'dog', 'cat'}\n",
    "wild = {'lion', 'snake'}\n",
    "pet = {'cat', 'dog'}\n",
    "\n",
    "print(\"Checking whether reptiles is the subset of animals :: \", (reptiles.issubset(animals)))\n",
    "print(\"Checking whether domestic is the subset of animals :: \", (domestic.issubset(animals)))\n",
    "print(\"Checking whether domestic is the subset of animals :: \", (domestic <= animals)) # alternative way of checking is subset\n",
    "print(\"Checking whether wild is the subset of animals :: \", (wild.issubset(animals)))\n",
    "print(\"Checking whether domestic is the subset of pet :: \", (domestic.issubset(pet))) # Trivial subset, others are proper subset\n",
    "\n"
   ]
  },
  {
   "cell_type": "markdown",
   "id": "75b865be-d351-4140-bb4c-598fbac2a05e",
   "metadata": {},
   "source": [
    "**Superset**\n",
    "* A Superset contains all elements of the Subset\n",
    "* **Improper Superset** - both Superset and Subset are having same set of elements. Superset >= Subset\n",
    "* **Proper Superset** - Subset is having less number of elements of Superset. Superset >= Subset\n",
    "* A set is a **improper** Superset of itself\n",
    "* Operator : **>=**"
   ]
  },
  {
   "cell_type": "code",
   "execution_count": null,
   "id": "0c5f247a-2e93-4a3a-af32-cb9100833410",
   "metadata": {},
   "outputs": [],
   "source": [
    "animals = {'lion', 'cat', 'whale', 'snake'}\n",
    "reptiles = {'snake'}\n",
    "domestic = {'dog', 'cat'}\n",
    "wild = {'lion', 'snake'}\n",
    "pet = {'cat', 'dog'}\n",
    "\n",
    "print(\"Checking whether animals is the superset of reptiles :: \", (animals.issuperset(reptiles)))\n",
    "print(\"Checking whether animals is the superset of domestic :: \", (animals.issuperset(domestic)))\n",
    "print(\"Checking whether animals is the superset of domestic :: \", (animals >= domestic)) # alternative way of checking is superset\n",
    "print(\"Checking whether animals is the superset of wild :: \", (animals.issuperset(wild)))\n",
    "print(\"Checking whether domestic is the superset of pet :: \", (domestic.issuperset(pet))) # Improper superset, others are proper subset"
   ]
  },
  {
   "cell_type": "markdown",
   "id": "eae8fc88-4af3-4b3d-acba-8430e2a5244d",
   "metadata": {},
   "source": [
    "**Powerset**\n",
    "* All posible subsets of a superset = 2 ** n\n",
    "* For empty set - empty set will be the powerset -> {} and cardinality is 1"
   ]
  },
  {
   "cell_type": "code",
   "execution_count": null,
   "id": "8b89e365-18ba-465d-89ae-46d4a5bffbcf",
   "metadata": {},
   "outputs": [],
   "source": [
    "from itertools import combinations\n",
    "continents = {'Asia', 'Africa', 'Australia', 'Europe'}\n",
    "total_count = len(players)\n",
    "\n",
    "result = []\n",
    "result.append(['']) # adding empty set\n",
    "for i in range(0, total_count):\n",
    "    cc = combinations(continents, i +1)\n",
    "    comb = [j for j in cc]\n",
    "    for j in comb:\n",
    "        result.append(set(j))\n",
    "\n",
    "print(\"Expected combinations count :: \", (2 ** len(continents)))\n",
    "print(\"Printing the total number of combinations :: \", (len(result)))\n",
    "print(\"Printing the combinations \")\n",
    "for r in result:\n",
    "    print(r, len(r))"
   ]
  },
  {
   "cell_type": "markdown",
   "id": "9f8d0999-6b4a-4500-9e01-9f788116e4f5",
   "metadata": {},
   "source": [
    "**Union**\n",
    "* All elements of the both elements should appear\n",
    "* **But each element should apear only once**\n",
    "* **|** operator can be used"
   ]
  },
  {
   "cell_type": "code",
   "execution_count": null,
   "id": "c6560dc3-e83d-44e4-a42e-a4c39013f84e",
   "metadata": {},
   "outputs": [],
   "source": [
    "animals = {'lion', 'cat', 'whale', 'snake'}\n",
    "reptiles = {'snake'}\n",
    "domestic = {'dog', 'cat'}\n",
    "\n",
    "print(\"Printing the animals union of reptiles :: \", animals.union(reptiles))\n",
    "print(\"Printing the animals union of domestic :: \", animals.union(domestic))\n",
    "print(\"Printing the animals union of domestic :: \", (animals | domestic)) # using | operator\n",
    "print(\"Printing the reptiles union of domestic :: \", reptiles.union(domestic))"
   ]
  },
  {
   "cell_type": "markdown",
   "id": "2b67a5af-0285-4672-862c-8e74d83001fb",
   "metadata": {},
   "source": [
    "**Intersection**\n",
    "* Only the elments that exists on both elements should appear\n",
    "* **&** operator can be used"
   ]
  },
  {
   "cell_type": "code",
   "execution_count": null,
   "id": "0b4dc02f-1e9c-4766-8c71-c2552f308628",
   "metadata": {},
   "outputs": [],
   "source": [
    "animals = {'lion', 'cat', 'whale', 'snake'}\n",
    "reptiles = {'snake'}\n",
    "domestic = {'dog', 'cat'}\n",
    "\n",
    "print(\"Printing the animals intersection of reptiles :: \", animals.intersection(reptiles))\n",
    "print(\"Printing the animals intersection of domestic :: \", animals.intersection(domestic))\n",
    "print(\"Printing the animals intersectoin of domestic :: \", animals & domestic) # using & operator\n",
    "print(\"Printing the reptiles intersection of domestic :: \", reptiles.intersection(domestic))"
   ]
  },
  {
   "cell_type": "markdown",
   "id": "1c020104-823f-4012-96dd-64d3d37f5023",
   "metadata": {},
   "source": [
    "**Difference**\n",
    "* Exclusive elements on the first set"
   ]
  },
  {
   "cell_type": "code",
   "execution_count": null,
   "id": "cb4b1db5-5895-42a0-83e1-2750a22f5b9b",
   "metadata": {},
   "outputs": [],
   "source": [
    "animals = {'lion', 'cat', 'whale', 'snake'}\n",
    "reptiles = {'snake'}\n",
    "domestic = {'dog', 'cat'}\n",
    "\n",
    "print(\"Printing the animals difference of reptiles :: \", animals.difference(reptiles))\n",
    "print(\"Printing the animals difference of domestic :: \", animals.difference(domestic))\n",
    "print(\"Printing the reptiles difference of domestic :: \", reptiles.difference(domestic))"
   ]
  },
  {
   "cell_type": "markdown",
   "id": "875c32ed-7bb6-4766-a5f8-6fa7dc85b1dc",
   "metadata": {},
   "source": [
    "**Symmentric Difference**\n",
    "* Return only the not common elements on the both Set"
   ]
  },
  {
   "cell_type": "code",
   "execution_count": null,
   "id": "2aebc171-cc1e-4ec1-8058-af109dc77d1d",
   "metadata": {},
   "outputs": [],
   "source": [
    "animals = {'lion', 'cat', 'whale', 'snake'}\n",
    "reptiles = {'snake'}\n",
    "domestic = {'dog', 'cat'}\n",
    "\n",
    "diff1_animals = animals - reptiles\n",
    "diff1_reptiles = reptiles - animals\n",
    "diff2_animals = animals - domestic\n",
    "diff2_domestic =  domestic - animals\n",
    "diff3_reptiles = reptiles - domestic\n",
    "diff3_domestic = domestic - reptiles\n",
    "\n",
    "diff1 = diff1_animals.union(diff1_reptiles)\n",
    "diff2 = diff2_animals.union(diff2_domestic)\n",
    "diff3 = diff3_reptiles.union(diff3_domestic)\n",
    "\n",
    "print(\"Validating Symmentric Difference with the identifying manual difference between sets and computing union of the difference\")\n",
    "print(\"Animal + Reptiles :: \", diff1, animals.symmetric_difference(reptiles), \" ----- \", (diff1 ==  animals.symmetric_difference(reptiles) ) )\n",
    "print(\"Animal + Domestic :: \", diff2,  animals.symmetric_difference(domestic), \" ----- \", (diff2 ==  animals.symmetric_difference(domestic) ) )\n",
    "print(\"Reptiles + Domestic :: \", diff3, reptiles.symmetric_difference(domestic), \" ----- \", (diff3 ==  reptiles.symmetric_difference(domestic) ) )"
   ]
  },
  {
   "cell_type": "markdown",
   "id": "f1d4dad3-49ab-4e75-b9d4-d3952fbf179e",
   "metadata": {},
   "source": [
    "**Disjoint and Non-Disjoint**\n",
    "* **Disjoint** - No common element between two sets\n",
    "* **Non-Disjoint** - Atleast one element between two sets"
   ]
  },
  {
   "cell_type": "code",
   "execution_count": null,
   "id": "6afabfcb-0701-4fca-8304-3c2084455baa",
   "metadata": {},
   "outputs": [],
   "source": [
    "animals = {'lion', 'cat', 'whale', 'snake'}\n",
    "reptiles = {'snake'}\n",
    "domestic = {'dog', 'cat'}\n",
    "\n",
    "\n",
    "print(\"Printing the animals and reptiles are Disjoint/Non-disjoint :: \", \"Disjoint \" if animals.isdisjoint(reptiles) else \"Non-disjoint \" )\n",
    "print(\"Printing the animals and domestic are Disjoint/Non-disjoint :: \", \"Disjoint \" if animals.isdisjoint(domestic) else \"Non-disjoint \" )\n",
    "print(\"Printing the reptiles and domestic are Disjoint/Non-disjoint :: \", \"Disjoint \" if reptiles.isdisjoint(domestic) else \"Non-disjoint \" )\n",
    "\n",
    "\n",
    "print(\"Printing the animals and reptiles are Disjoint/Non-disjoint :: \", \"Non-disjoint \" if animals.intersection(reptiles) else \"Disjoint \" )\n",
    "print(\"Printing the animals and domestic are Disjoint/Non-disjoint :: \", \"Non-disjoint \" if animals.intersection(domestic) else \"Disjoint \" )\n",
    "print(\"Printing the reptiles and domestic are Disjoint/Non-disjoint :: \", \"Non-disjoint \" if reptiles.intersection(domestic) else \"Disjoint \" )\n"
   ]
  },
  {
   "cell_type": "markdown",
   "id": "a01f700f-c98d-450a-b629-f87e9e3c1adf",
   "metadata": {},
   "source": [
    "**Set Comprehension**\n",
    "* set can be created using set comprehension"
   ]
  },
  {
   "cell_type": "code",
   "execution_count": null,
   "id": "7f4add72-f4d5-4c06-91fa-4f24264c93ac",
   "metadata": {},
   "outputs": [],
   "source": [
    "squares = {x ** 2 for x in range(1, 6)}\n",
    "print(\" Set with squares : \", squares)\n",
    "\n",
    "even = {x for x  in range(1, 10) if x%2==0}\n",
    "print(\" Set with even : \", even)\n"
   ]
  },
  {
   "cell_type": "markdown",
   "id": "5554fc42-306f-45a3-8096-e4e0e0cd31a3",
   "metadata": {},
   "source": [
    "**Cartisian Product**\n",
    "* returns all possible ordered pairs"
   ]
  },
  {
   "cell_type": "code",
   "execution_count": null,
   "id": "e3f2e9b8-6d48-4068-aaa7-de3de911a507",
   "metadata": {},
   "outputs": [],
   "source": []
  },
  {
   "cell_type": "code",
   "execution_count": null,
   "id": "95c6fac4-840d-40c6-be1a-90c672868444",
   "metadata": {},
   "outputs": [],
   "source": [
    "import itertools\n",
    "\n",
    "a = {'a','b','c','d'}\n",
    "b = {'z', 'y', 'x'}\n",
    "\n",
    "elements = list(itertools.product(a, b))\n",
    "\n",
    "print(\"Printing the total number of pairs :: \", (len(elements)))\n",
    "print(\"Printing the pairs \")\n",
    "for r in elements:\n",
    "    print(r)\n"
   ]
  },
  {
   "cell_type": "code",
   "execution_count": null,
   "id": "21253c3e-181b-4d7f-b1f6-bbdbedf28801",
   "metadata": {},
   "outputs": [],
   "source": [
    "#Initializing the set\n",
    "a = {'P', 'Y', 'T', 'H', 'O', 'N'}\n",
    "b = set()\n",
    "print(\"A :: \", a, \" Size ::\" , len(a))\n",
    "print(\"B :: \", b, \" Size ::\" , len(b))\n",
    "\n",
    "\n",
    "print(\"-------------------------------\")\n",
    "# adding element to the existing Set\n",
    "a.add('3')\n",
    "b.add('3')\n",
    "\n",
    "print(\"After adding Element\")\n",
    "print(\"A :: \", a, \" Size ::\" , len(a))\n",
    "print(\"B :: \", b, \" Size ::\" , len(b))\n",
    "\n",
    "\n",
    "print(\"-------------------------------\")\n",
    "# removing element to the existing Set\n",
    "try:\n",
    "    a.remove('Y')\n",
    "    print(\"Removed Y from :: \", a)\n",
    "except KeyError:\n",
    "    print(\"Error in removing Y from :: \", a)\n",
    "\n",
    "# removing element to the existing Set - which raises KeyError if key not exists\n",
    "try:\n",
    "    b.remove('Y')\n",
    "    print(\"Removed Y from :: \", b)\n",
    "except KeyError:\n",
    "    print(\"Error in removing Y from :: \", b)\n",
    "\n",
    "\n",
    "print(\"After removing Element Y\")\n",
    "print(\"A :: \", a, \" Size ::\" , len(a))\n",
    "print(\"B :: \", b, \" Size ::\" , len(b))\n",
    "\n",
    "print(\"-------------------------------\")\n",
    "# discard element from the existing Set - which won't raises KeyError if key not exists\n",
    "a.discard('T')\n",
    "b.discard('T')\n",
    "\n",
    "print(\"After discarding Element T\")\n",
    "print(\"A :: \", a, \" Size ::\" , len(a))\n",
    "print(\"B :: \", b, \" Size ::\" , len(b))\n",
    "\n",
    "print(\"-------------------------------\")\n",
    "# popping the arbitary element from the existing Set - which raises KeyError if key not exists\n",
    "a.pop()\n",
    "b.pop()\n",
    "\n",
    "try:\n",
    "    a.pop()\n",
    "    print(\"Popped arbitary element :: \", a)\n",
    "except KeyError:\n",
    "    print(\"Error in popping element from :: \", a)\n",
    "\n",
    "try:\n",
    "    b.pop()\n",
    "    print(\"Popped arbitary element :: \", b)\n",
    "except KeyError:\n",
    "    print(\"Error in popping element from :: \", b)\n",
    "\n",
    "print(\"After popping arbitary element\")\n",
    "print(\"A :: \", a, \" Size ::\" , len(a))\n",
    "print(\"B :: \", b, \" Size ::\" , len(b))\n",
    "\n",
    "print(\"-------------------------------\")\n",
    "# clearing all elements of the Set\n",
    "a.clear()\n",
    "b.clear()\n",
    "\n",
    "print(\"After applying clear\")\n",
    "print(\"A :: \", a, \" Size ::\" , len(a))\n",
    "print(\"B :: \", b, \" Size ::\" , len(b))\n",
    "\n"
   ]
  },
  {
   "cell_type": "code",
   "execution_count": null,
   "id": "d49d755d-8fb6-49c6-a1c3-f877c34e647d",
   "metadata": {},
   "outputs": [],
   "source": [
    "#pip install venny4py matplotlib\n",
    "from venny4py.venny4py import *\n",
    "\n",
    "\n",
    "animals = {'lion', 'cat', 'whale', 'snake'}\n",
    "reptiles = {'snake'}\n",
    "domestic = {'dog', 'cat'}\n",
    "wild = {'lion', 'snake', 'tiger'}\n",
    "pet = {'cat', 'dog'}\n",
    "\n",
    "#dict of sets\n",
    "sets = {\n",
    "    'Animals': animals,\n",
    "    'Wild': wild}\n",
    "    \n",
    "venny4py(sets=sets)\n",
    "plt.show()"
   ]
  },
  {
   "cell_type": "code",
   "execution_count": null,
   "id": "1c68288c-9310-4ad7-895a-fac202abe8fd",
   "metadata": {},
   "outputs": [],
   "source": [
    "#pip install matplotlib_venn\n",
    "from matplotlib_venn import venn2\n",
    "\n",
    "animals = {'lion', 'cat', 'whale', 'snake'}\n",
    "reptiles = {'snake'}\n",
    "domestic = {'dog', 'cat'}\n",
    "wild = {'lion', 'snake', 'tiger'}\n",
    "pet = {'cat', 'dog'}\n",
    "\n",
    "venn2([animals, reptiles])\n",
    "plt.show()"
   ]
  },
  {
   "cell_type": "markdown",
   "id": "8adb19ca-4641-419c-9b1c-17fc821980ce",
   "metadata": {},
   "source": [
    "## Set Theory Laws"
   ]
  },
  {
   "cell_type": "markdown",
   "id": "f7f7cd54-0294-4bee-8039-2579d8936fb1",
   "metadata": {},
   "source": [
    "**Identity Laws**\n",
    "* **Union** with Empty set and **Intersection** with Universal set will not change the identity"
   ]
  },
  {
   "cell_type": "code",
   "execution_count": null,
   "id": "66c919df-277c-432b-8d7d-78aa864eff34",
   "metadata": {},
   "outputs": [],
   "source": [
    "all_subjects = {'Maths', 'Science', 'English', 'Tamil', 'Moral Science', 'History', 'Geography'}\n",
    "language = {'English', 'Tamil'}\n",
    "science = {}\n",
    "\n",
    "# Union with empty set\n",
    "identity1 = language.union(science)\n",
    "\n",
    "# intesection with Universal set\n",
    "identity2 = language.intersection(all_subjects)\n",
    "\n",
    "print(\"Universal Set :: \", all_subjects)\n",
    "print(\"Actual Set :: \", language)\n",
    "print(\"Identity Test 1 :: \", identity1)\n",
    "print(\"Identity Test 2 :: \", identity2)"
   ]
  },
  {
   "cell_type": "markdown",
   "id": "510979ae-6ab0-4d21-9094-3e821a96281d",
   "metadata": {},
   "source": [
    "**Idempotent Laws**\n",
    "* A Set **Unions** or **Intersection** with itself does not changes the **Identity**"
   ]
  },
  {
   "cell_type": "code",
   "execution_count": null,
   "id": "dc719ee3-a018-42ef-bf0f-f027d5f73c01",
   "metadata": {},
   "outputs": [],
   "source": [
    "vehicle = {'car', 'bike', 'van'}\n",
    "\n",
    "# Union with itself\n",
    "identity1 = vehicle.union(vehicle)\n",
    "\n",
    "# intesection with itself\n",
    "identity2 = vehicle.intersection(vehicle)\n",
    "\n",
    "print(\"Actual Set :: \", vehicle)\n",
    "print(\"Identity Test 1 :: \", identity1)\n",
    "print(\"Identity Test 2 :: \", identity2)"
   ]
  },
  {
   "cell_type": "markdown",
   "id": "c4330f9d-9f60-4fe2-8d60-b858f1505f0c",
   "metadata": {},
   "source": [
    "**Domination Laws**\n",
    "* A Set which **Unions** with Univerasal set or has **Intersection** with Empty set gets swallowed up completely"
   ]
  },
  {
   "cell_type": "code",
   "execution_count": null,
   "id": "d9de15b5-3b3c-4800-96d2-2fd02eff5c61",
   "metadata": {},
   "outputs": [],
   "source": [
    "earth_known_metals = {'steel', 'copper', 'silver', 'aluminium'} \n",
    "ornament_metals = {'gold', 'silver', 'platinum'}\n",
    "mars_known_metals = {}\n",
    "\n",
    "# Union with Universal set :: Swallowed by the Union set\n",
    "identity1 = ornament_metals.union(earth_known_metals)\n",
    "\n",
    "# intesection with empty set :: Swallowed by the Union set\n",
    "identity2 = ornament_metals.intersection(mars_known_metals)\n",
    "\n",
    "print(\"Universal Set :: \", earth_known_metals)\n",
    "print(\"Actual Set :: \", ornament_metals)\n",
    "print(\"Identity Test 1 :: \", identity1)\n",
    "print(\"Identity Test 2 :: \", identity2)"
   ]
  },
  {
   "cell_type": "markdown",
   "id": "35d5ec5d-62dc-4012-8186-b061901051b7",
   "metadata": {},
   "source": [
    "**Complementation Laws**\n",
    "* A Set which **Unions** with it's complement results in Universal set\n",
    "* A Set which **Intersection** with it's complement results in Empty set"
   ]
  },
  {
   "cell_type": "code",
   "execution_count": null,
   "id": "240294f4-2db7-4613-aa63-abf1584561f2",
   "metadata": {},
   "outputs": [],
   "source": [
    "numbers_1_to_10 = {1,2,3,4,5,6,7,8,9,10} \n",
    "even_numbers = {2,4,6,8,10}\n",
    "\n",
    "even_numbers_c = numbers_1_to_10 - even_numbers\n",
    "\n",
    "\n",
    "# Union with Compliment:: Result will be a Universal set\n",
    "set1 = even_numbers.union(even_numbers_c)\n",
    "\n",
    "# intesection with Compliment:: Result will be a Empty set\n",
    "set2 = even_numbers.intersection(even_numbers_c)\n",
    "\n",
    "print(\"Universal Set :: \", numbers_1_to_10)\n",
    "print(\"Actual Set :: \", even_numbers)\n",
    "print(\"Actual Set's complement :: \", even_numbers_c)\n",
    "print(\"Set 1 :: \", set1)\n",
    "print(\"Set 2 :: \", set2)"
   ]
  },
  {
   "cell_type": "markdown",
   "id": "5d001ff6-ce60-41c1-9a63-bfd3009b2eaa",
   "metadata": {},
   "source": [
    "**Commutative Laws**\n",
    "* A Set which **Unions** or **Intersection** with another set or visa-versa happens result will be the same"
   ]
  },
  {
   "cell_type": "code",
   "execution_count": null,
   "id": "0f9e1cfe-80dc-4177-a161-6c103a55392b",
   "metadata": {},
   "outputs": [],
   "source": [
    "food_ingredients = {'rice', 'vegetable'} \n",
    "added_ingredients = {'salt', 'pepper'}\n",
    "\n",
    "# food_ingredients union with added_ingredients\n",
    "set1 = food_ingredients.union(added_ingredients)\n",
    "\n",
    "# added_ingredients union with food_ingredients\n",
    "set2 = added_ingredients.union(food_ingredients)\n",
    "\n",
    "print(\"Actual Set 1 :: \", food_ingredients)\n",
    "print(\"Actual Set 2 :: \", added_ingredients)\n",
    "print(\"Set 1 :: \", set1)\n",
    "print(\"Set 2 :: \", set2)\n",
    "print(\"Is Set 1 and Set 2 are same ? :: \", (set1 == set2))\n"
   ]
  },
  {
   "cell_type": "markdown",
   "id": "249f318e-0e25-4570-a877-9db89e709305",
   "metadata": {},
   "source": [
    "**Distributive Laws**\n",
    "* Set works same as\n",
    "    - A X (B + C) = (A + B) * (A + C)\n",
    "    - A + (B X C) = (A X B) + (A X C)"
   ]
  },
  {
   "cell_type": "code",
   "execution_count": null,
   "id": "a6237f20-887d-410f-8fed-2f3f136665ee",
   "metadata": {},
   "outputs": [],
   "source": [
    "spacecraft_metals = {'titanium', 'aluminium'} \n",
    "ornament_metals = {'gold', 'silver', 'platinum'}\n",
    "tools_metals = {'aluminium', 'steel'}\n",
    "\n",
    "# A Unions (B Intersects C) = (A Intersects B) union (A Intersects C)\n",
    "# spacecraft_metals union with (ornament_metals intersects tools_metals) \n",
    "#              = (spacecraft_metals intersects ornament_metals) union (spacecraft_metals intersects tools_metals)\n",
    "set1_left = spacecraft_metals.union(ornament_metals.intersection(tools_metals))\n",
    "set1_right = (spacecraft_metals.union(ornament_metals)).intersection((spacecraft_metals.union(tools_metals)))\n",
    "\n",
    "\n",
    "# A Intersects (B Unions C) = (A Unions B) Intersects (A Unions C)\n",
    "# spacecraft_metals union intersects (ornament_metals union tools_metals) \n",
    "#              = (spacecraft_metals union ornament_metals) intersects (spacecraft_metals union tools_metals)\n",
    "set2_left = spacecraft_metals.intersection(ornament_metals.union(tools_metals))\n",
    "set2_right = (spacecraft_metals.intersection(ornament_metals)).union((spacecraft_metals.intersection(tools_metals)))\n",
    "\n",
    "\n",
    "print(\"Actual Set 1 Left :: \", set1_left)\n",
    "print(\"Actual Set 1 Right :: \", set1_right)\n",
    "print(\"Actual Set 2 Left :: \", set2_left)\n",
    "print(\"Actual Set 2 Right :: \", set2_right)\n",
    "\n",
    "print(\"Is Set 1 and Set 2 are same ? :: \", (set1_left == set1_right))\n",
    "print(\"Is Set 1 and Set 2 are same ? :: \", (set2_left == set2_right))\n"
   ]
  },
  {
   "cell_type": "markdown",
   "id": "925cff6d-6a21-4dcc-bba4-af84750c3929",
   "metadata": {},
   "source": [
    "**Absorption Laws**\n",
    "* works as below\n",
    "    - A union (A intersect B) = A\n",
    "    - A intersect (A union B) = A"
   ]
  },
  {
   "cell_type": "code",
   "execution_count": null,
   "id": "f42af59e-7a1b-4a55-ba74-27e1e494dcc8",
   "metadata": {},
   "outputs": [],
   "source": [
    "spacecraft_metals = {'titanium', 'aluminium'} \n",
    "ornament_metals = {'gold', 'silver', 'platinum'}\n",
    "\n",
    "# A Unions (A Intersects B) = A\n",
    "# spacecraft_metals union with (spacecraft_metals intersects ornament_metals) = A\n",
    "set1_left = spacecraft_metals.union(spacecraft_metals.intersection(ornament_metals))\n",
    "set1_right = spacecraft_metals\n",
    "\n",
    "\n",
    "# A Intersects (A Union B) = A\n",
    "# spacecraft_metals intersects with (spacecraft_metals union ornament_metals) = A\n",
    "set2_left = spacecraft_metals.intersection(spacecraft_metals.union(ornament_metals))\n",
    "set2_right = spacecraft_metals\n",
    "\n",
    "\n",
    "print(\"Actual Set 1 Left :: \", set1_left)\n",
    "print(\"Actual Set 1 Right :: \", set1_right)\n",
    "print(\"Actual Set 2 Left :: \", set2_left)\n",
    "print(\"Actual Set 2 Right :: \", set2_right)\n",
    "\n",
    "print(\"Is Set 1 and Set 2 are same ? :: \", (set1_left == set1_right))\n",
    "print(\"Is Set 1 and Set 2 are same ? :: \", (set2_left == set2_right))\n"
   ]
  },
  {
   "cell_type": "markdown",
   "id": "aa53fd94-9693-4b8c-a3e1-6740f5cea97a",
   "metadata": {},
   "source": [
    "**Associative Laws**\n",
    "* Set works same as\n",
    "    - A union (B union C) = (A union B) union C\n",
    "    - A intersect (B intersect C) = (A intersect B) intersect C"
   ]
  },
  {
   "cell_type": "code",
   "execution_count": null,
   "id": "012da060-8bfa-440e-ba01-2824b88df307",
   "metadata": {},
   "outputs": [],
   "source": [
    "spacecraft_metals = {'titanium', 'aluminium'} \n",
    "ornament_metals = {'gold', 'silver', 'platinum'}\n",
    "tools_metals = {'aluminium', 'steel'}\n",
    "\n",
    "# A Unions (B Unions C) = (A Unions B) Unions C\n",
    "# spacecraft_metals union with (ornament_metals union with tools_metals) \n",
    "#     = (spacecraft_metals union with ornament_metals) union with tools_metals\n",
    "\n",
    "set1_left = spacecraft_metals.union(ornament_metals.union(tools_metals))\n",
    "set1_right = spacecraft_metals.union(ornament_metals).union(tools_metals)\n",
    "\n",
    "\n",
    "# A Intersects (B Intersects C) = (A Intersects B) Intersects C\n",
    "# spacecraft_metals intersects with (ornament_metals intersects with tools_metals) \n",
    "#     = (spacecraft_metals intersects with ornament_metals) intersects with tools_metals\n",
    "set2_left = spacecraft_metals.intersection(ornament_metals.intersection(tools_metals))\n",
    "set2_right = spacecraft_metals.intersection(ornament_metals).intersection(tools_metals)\n",
    "\n",
    "\n",
    "print(\"Actual Set 1 Left :: \", set1_left)\n",
    "print(\"Actual Set 1 Right :: \", set1_right)\n",
    "print(\"Actual Set 2 Left :: \", set2_left)\n",
    "print(\"Actual Set 2 Right :: \", set2_right)\n",
    "\n",
    "print(\"Is Set 1 and Set 2 are same ? :: \", (set1_left == set1_right))\n",
    "print(\"Is Set 1 and Set 2 are same ? :: \", (set2_left == set2_right))\n"
   ]
  },
  {
   "cell_type": "markdown",
   "id": "44b38b5b-ff64-40ec-8fd6-50498a5e6cfe",
   "metadata": {},
   "source": [
    "**De Morgan's Law**\n",
    "* works as below\n",
    "    - (A union B)' = A' intersect B'\n",
    "    - (A intersect B)' = A' union B'"
   ]
  },
  {
   "cell_type": "code",
   "execution_count": null,
   "id": "e3beed5e-8f62-47df-8010-e8d325bf9210",
   "metadata": {},
   "outputs": [],
   "source": [
    "earth_known_metals = {'steel', 'copper', 'silver', 'aluminium', 'titanium'} \n",
    "spacecraft_metals = {'titanium', 'aluminium'} \n",
    "tools_metals = {'aluminium', 'steel'}\n",
    "\n",
    "# (A Unions B)' = A' Intersect B'\n",
    "# earth_known_metals - (spacecraft_metals union with tools_metals) \n",
    "#     = (earth_known_metals - spacecraft_metals) intersects with (earth_known_metals - tools_metals)\n",
    "set1_left = earth_known_metals - (spacecraft_metals.union(tools_metals))\n",
    "set1_right = (earth_known_metals - spacecraft_metals).intersection(earth_known_metals - tools_metals)\n",
    "\n",
    "# (A Intersect B)' = A' Unions B'\n",
    "# earth_known_metals - (spacecraft_metals intersects with tools_metals) \n",
    "#     = (earth_known_metals - spacecraft_metals) union with (earth_known_metals - tools_metals)\n",
    "set2_left = earth_known_metals - (spacecraft_metals.intersection(tools_metals))\n",
    "set2_right = (earth_known_metals - spacecraft_metals).union(earth_known_metals - tools_metals)\n",
    "\n",
    "print(\"Actual Set 1 Left :: \", set1_left)\n",
    "print(\"Actual Set 1 Right :: \", set1_right)\n",
    "print(\"Actual Set 2 Left :: \", set2_left)\n",
    "print(\"Actual Set 2 Right :: \", set2_right)\n",
    "\n",
    "print(\"Is Set 1 and Set 2 are same ? :: \", (set1_left == set1_right))\n",
    "print(\"Is Set 1 and Set 2 are same ? :: \", (set2_left == set2_right))\n"
   ]
  },
  {
   "cell_type": "code",
   "execution_count": null,
   "id": "2afe1e1b-41c8-4c60-8ac9-6063a5543e35",
   "metadata": {},
   "outputs": [],
   "source": [
    "earth_known_metals = {'steel', 'copper', 'silver', 'aluminium', 'titanium'} \n",
    "spacecraft_metals = {'titanium', 'aluminium'} \n",
    "tools_metals = {'aluminium', 'steel'}\n",
    "liquid_metals = {'mercury', 'hydrogen'}\n",
    "\n",
    "# (A Unions B Unions C)' = A' Intersect B' Intersect C'\n",
    "# earth_known_metals - (spacecraft_metals union with tools_metals union with liquid_metals) \n",
    "#     = (earth_known_metals - spacecraft_metals) intersects with (earth_known_metals - tools_metals) \n",
    "#        intersects with (earth_known_metals - liquid_metals)\n",
    "set1_left = earth_known_metals - (spacecraft_metals.union(tools_metals).union(liquid_metals))\n",
    "set1_right = (earth_known_metals - spacecraft_metals).intersection(earth_known_metals - tools_metals).intersection(earth_known_metals - liquid_metals)\n",
    "\n",
    "# (A Intersect B Intersect C)' = A' Unions B' Unions C'\n",
    "# earth_known_metals - (spacecraft_metals intersects with tools_metals intersects with liquid_metals) \n",
    "#     = (earth_known_metals - spacecraft_metals) unions with (earth_known_metals - tools_metals) \n",
    "#        unions with (earth_known_metals - liquid_metals)\n",
    "set2_left = earth_known_metals - (spacecraft_metals.intersection(tools_metals).intersection(liquid_metals))\n",
    "set2_right = (earth_known_metals - spacecraft_metals).union(earth_known_metals - tools_metals).union(earth_known_metals - liquid_metals)\n",
    "\n",
    "print(\"Actual Set 1 Left :: \", set1_left)\n",
    "print(\"Actual Set 1 Right :: \", set1_right)\n",
    "print(\"Actual Set 2 Left :: \", set2_left)\n",
    "print(\"Actual Set 2 Right :: \", set2_right)\n",
    "\n",
    "print(\"Is Set 1 and Set 2 are same ? :: \", (set1_left == set1_right))\n",
    "print(\"Is Set 1 and Set 2 are same ? :: \", (set2_left == set2_right))\n"
   ]
  },
  {
   "cell_type": "markdown",
   "id": "20ac492b-e9d3-419e-9497-0566ec6a3e7c",
   "metadata": {},
   "source": [
    "**Double Negation Law**\n",
    "* Complemnent of complement of a Set will result the initial Set state"
   ]
  },
  {
   "cell_type": "code",
   "execution_count": null,
   "id": "84aa4b1c-ebda-47db-87ae-8d093b007841",
   "metadata": {},
   "outputs": [],
   "source": [
    "earth_known_metals = {'steel', 'copper', 'silver', 'aluminium', 'titanium', 'mercury','hydrogen'} \n",
    "liquid_metals = {'mercury', 'hydrogen'}\n",
    "\n",
    "# ((A)')' = A\n",
    "# earth_known_metals - (earth_known_metals -  liquid_metals) = liquid_metals\n",
    "set1_left = (earth_known_metals - (earth_known_metals - liquid_metals))\n",
    "set1_right = liquid_metals\n",
    "\n",
    "print(\"Actual Set 1 Left :: \", set1_left)\n",
    "print(\"Actual Set 1 Right :: \", set1_right)\n",
    "\n",
    "print(\"Is Set 1 and Set 2 are same ? :: \", (set1_left == set1_right))"
   ]
  },
  {
   "cell_type": "markdown",
   "id": "eee76d7b-30e5-443e-9feb-2526f19f3358",
   "metadata": {},
   "source": [
    "**Jaccard Similarity**\n",
    "* Similarity between 2 sets, **Range : 0 - 1**\n",
    "* (A intersect B) / (A union B)\n",
    "* Used in :\n",
    "  - text analysis\n",
    "  - Image processing\n",
    "  - Recommendations systems\n",
    "* Range definition:\n",
    "  - 0.00 to 0.19 : Very low similarity\n",
    "  - 0.20 to 0.39 : Low similarity\n",
    "  - 0.40 to 0.59 : Moderate similarity\n",
    "  - 0.60 to 0.79 : High similarity\n",
    "  - 0.80 to 1.00 : Very high similarity"
   ]
  },
  {
   "cell_type": "code",
   "execution_count": null,
   "id": "ba392b58-b4c3-4a94-b7e1-8b0d6eb95e15",
   "metadata": {},
   "outputs": [],
   "source": [
    "earth_known_metals = {'steel', 'copper', 'silver', 'aluminium', 'titanium', 'mercury','hydrogen'} \n",
    "liquid_metals = {'mercury', 'hydrogen'}\n",
    "\n",
    "language = {'English', 'Tamil', 'Hindi'}\n",
    "subject = {'English', 'Hindi', 'Telugu'}\n",
    "\n",
    "a = {'a','b','c','d'}\n",
    "b = {'a', 'b', 'c'}\n",
    "\n",
    "colors_1 = {'red','blue','green'}\n",
    "colors_2 = {'green', 'blue', 'red'}\n",
    "\n",
    "set1_dividend = len(earth_known_metals.intersection(liquid_metals))\n",
    "set1_divisor = len(earth_known_metals.union(liquid_metals))\n",
    "\n",
    "print(\"Actual Set 1 dividend :: \", set1_dividend)\n",
    "print(\"Actual Set 1 divisor :: \", set1_divisor)\n",
    "\n",
    "print(\"How much Set 1 : sets are similar ? :: \", (set1_dividend / set1_divisor))\n",
    "\n",
    "set2_dividend = len(language.intersection(subject))\n",
    "set2_divisor = len(language.union(subject))\n",
    "\n",
    "print(\"Actual Set 2 dividend :: \", set2_dividend)\n",
    "print(\"Actual Set 2 divisor :: \", set2_divisor)\n",
    "\n",
    "print(\"How much Set 2 : sets are similar ? :: \", (set2_dividend / set2_divisor))\n",
    "\n",
    "\n",
    "set3_dividend = len(a.intersection(b))\n",
    "set3_divisor = len(a.union(b))\n",
    "\n",
    "print(\"Actual Set 3 dividend :: \", set3_dividend)\n",
    "print(\"Actual Set 3 divisor :: \", set3_divisor)\n",
    "\n",
    "print(\"How much Set 3 : sets are similar ? :: \", (set3_dividend / set3_divisor))\n",
    "\n",
    "set4_dividend = len(colors_1.intersection(colors_2))\n",
    "set4_divisor = len(colors_1.union(colors_2))\n",
    "\n",
    "print(\"Actual Set 4 dividend :: \", set4_dividend)\n",
    "print(\"Actual Set 4 divisor :: \", set4_divisor)\n",
    "\n",
    "print(\"How much Set 4 : sets are similar ? :: \", (set4_dividend / set4_divisor))\n"
   ]
  },
  {
   "cell_type": "code",
   "execution_count": null,
   "id": "a53b07ac-30f6-470d-ab3a-e1765c04cd42",
   "metadata": {},
   "outputs": [],
   "source": [
    "#pip install scikit-learn\n",
    "from sklearn.metrics import jaccard_score\n",
    "\n",
    "# number of elements should be same for using sklearn's jaccard_score\n",
    "language = {'English', 'Tamil', 'Hindi'}\n",
    "subject = {'English', 'Hindi', 'Telugu'}\n",
    "\n",
    "a = [1,2,3,4]\n",
    "b = [1,2,3,5]\n",
    "\n",
    "print(\"Is sets are similar ? :: \", jaccard_score(list(language), list(subject), average=None))\n",
    "print(\"Is sets are similar ? :: \", jaccard_score(list(language), list(subject), average='weighted'))\n",
    "\n",
    "print(\"--------------------------------\")\n",
    "print(\"Is sets are similar (macro) ? :: \", jaccard_score(a, b, average='macro'))\n",
    "print(\"Is sets are similar (weighted) ? :: \", jaccard_score(a, b, average='weighted'))\n",
    "print(\"Is sets are similar (micro) ? :: \", jaccard_score(a, b, average='micro'))\n",
    "#print(\"Is sets are similar (binary) ? :: \", jaccard_score(a, b, average='binary'))\n",
    "#print(\"Is sets are similar (samples) ? :: \", jaccard_score(a, b, average='samples'))\n",
    "print(\"Is sets are similar (None) ? :: \", jaccard_score(a, b, average=None))\n"
   ]
  },
  {
   "cell_type": "markdown",
   "id": "aeed1da0-5dc8-47cc-95ab-3d84c4b8f350",
   "metadata": {},
   "source": [
    "**Application of Set Theory in Machine Learning**\n",
    "* Text clasifications and sentiment analysis : set of words or n-gram to get similarity measures like Jaccard Index\n",
    "* Recommender systems and rule-based systems : recommendation - similarities based on user preference, customer purchase history and activity\n",
    "* Clustering and graph based machine learning : manipulate and compare graph structures\n",
    "* Feature selection and data pre-processing : identifying redundant or irrelevant features, clean, preprocess, etc (credit score)\n",
    "* Association rule mining and social media analysis\n",
    "* Anamoly detection and image segmentation\n",
    "* Evaluation metrics for machine learning models"
   ]
  },
  {
   "cell_type": "code",
   "execution_count": null,
   "id": "49cd6707-8fd1-40a1-8d0b-7d72786f80ec",
   "metadata": {},
   "outputs": [],
   "source": [
    "positive_keywords = {\"great\", \"amazing\", \"excellent\", \"awesome\", \"outstanding\"}\n",
    "negative_keywords = {\"awful\", \"boring\", 'terrible', \"poor\", \"disappointing\"}\n",
    "\n",
    "review1 = \"The movie was great and had an amazing story\"\n",
    "review2 = \"I found the movie to be boring and the acting was terrible\"\n",
    "review3 = \"The movie was not bad, but the acting could be better\"\n",
    "\n",
    "review1_set = set()\n",
    "review2_set = set()\n",
    "review3_set = set()\n",
    "\n",
    "[review1_set.add(x) for x in review1.split(' ')]\n",
    "[review2_set.add(x) for x in review2.split(' ')]\n",
    "[review3_set.add(x) for x in review3.split(' ')]\n",
    "\n",
    "print(\"--------------------------------------------\")\n",
    "# review 1\n",
    "\n",
    "review1_positive_dividend = len(review1_set.intersection(positive_keywords))\n",
    "review1_positive_divisor = len(review1_set.union(positive_keywords))\n",
    "\n",
    "review1_negative_dividend = len(review1_set.intersection(negative_keywords))\n",
    "review1_negative_divisor = len(review1_set.union(negative_keywords))\n",
    "\n",
    "review1_positive_score = review1_positive_dividend / review1_positive_divisor\n",
    "review1_negative_score = review1_negative_dividend / review1_negative_divisor\n",
    "\n",
    "review1_sentiment = 'neutral' if ((review1_positive_score == 0 and review1_negative_score == 0) or review1_positive_score == review1_negative_score) else (\"positive\" if review1_positive_score > review1_negative_score else 'negative')\n",
    "\n",
    "print(\"Actual Review 1 Positive dividend :: \", review1_positive_dividend)\n",
    "print(\"Actual Review 1 Positive divisor :: \", review1_positive_divisor)\n",
    "\n",
    "print(\"Actual Review 1 Negative dividend :: \", review1_negative_dividend)\n",
    "print(\"Actual Review 1 Negative divisor :: \", review1_negative_divisor)\n",
    "print(\"How much Review 1 is sentiment ? :: \", (review1_sentiment))\n",
    "\n",
    "print(\"--------------------------------------------\")\n",
    "# review 2\n",
    "\n",
    "review2_positive_dividend = len(review2_set.intersection(positive_keywords))\n",
    "review2_positive_divisor = len(review2_set.union(positive_keywords))\n",
    "\n",
    "review2_negative_dividend = len(review2_set.intersection(negative_keywords))\n",
    "review2_negative_divisor = len(review2_set.union(negative_keywords))\n",
    "\n",
    "review2_positive_score = review2_positive_dividend / review2_positive_divisor\n",
    "review2_negative_score = review2_negative_dividend / review2_negative_divisor\n",
    "\n",
    "review2_sentiment = 'neutral' if ((review2_positive_score == 0 and review2_negative_score == 0) or review2_positive_score == review2_negative_score) else (\"positive\" if review2_positive_score > review2_negative_score else 'negative')\n",
    "\n",
    "print(\"Actual Review 2 Positive dividend :: \", review2_positive_dividend)\n",
    "print(\"Actual Review 2 Positive divisor :: \", review2_positive_divisor)\n",
    "\n",
    "print(\"Actual Review 2 Negative dividend :: \", review2_negative_dividend)\n",
    "print(\"Actual Review 2 Negative divisor :: \", review2_negative_divisor)\n",
    "print(\"How much Review 2 is sentiment ? :: \", (review2_sentiment))\n",
    "\n",
    "print(\"--------------------------------------------\")\n",
    "# review 3\n",
    "\n",
    "review3_positive_dividend = len(review3_set.intersection(positive_keywords))\n",
    "review3_positive_divisor = len(review3_set.union(positive_keywords))\n",
    "\n",
    "review3_negative_dividend = len(review3_set.intersection(negative_keywords))\n",
    "review3_negative_divisor = len(review3_set.union(negative_keywords))\n",
    "\n",
    "review3_positive_score = review3_positive_dividend / review3_positive_divisor\n",
    "review3_negative_score = review3_negative_dividend / review3_negative_divisor\n",
    "\n",
    "review3_sentiment = 'neutral' if ((review3_positive_score == 0 and review3_negative_score == 0) or review2_positive_score == review2_negative_score) else (\"positive\" if review3_positive_score > review3_negative_score else 'negative')\n",
    "\n",
    "print(\"Actual Review 3 Positive dividend :: \", review3_positive_dividend)\n",
    "print(\"Actual Review 3 Positive divisor :: \", review3_positive_divisor)\n",
    "\n",
    "print(\"Actual Review 3 Negative dividend :: \", review3_negative_dividend)\n",
    "print(\"Actual Review 3 Negative divisor :: \", review3_negative_divisor)\n",
    "print(\"How much Review 3 is sentiment ? :: \", (review3_sentiment))\n",
    "\n",
    "\n"
   ]
  },
  {
   "cell_type": "markdown",
   "id": "336781a2-a8d4-4314-bd59-34b62667232d",
   "metadata": {},
   "source": [
    "**Dice Coefficient**\n",
    "* Similarity between 2 sets, **Range : 0 - 1**\n",
    "* 2 * (A intersect B) / (A + B)\n",
    "* to measure of the extend to which two sets overlap - higher values indicates greater similarity\n",
    "* Used in :\n",
    "  - text classification\n",
    "  - infomrmation retrieval\n",
    "  - natural language processing\n",
    "  - Recommendations systems\n",
    "  - clustering\n",
    "\n",
    "* Range definition:\n",
    "  - 0 : No similarity\n",
    "  - 0 to 0.5 : Low similarity\n",
    "  - 0.5 : Moderate similarity\n",
    "  - 0.5 to 1 : High similarity\n",
    "  - 1 : Identical"
   ]
  },
  {
   "cell_type": "code",
   "execution_count": null,
   "id": "b9e604ed-5b4c-4bd7-b675-32bf0ac16fa8",
   "metadata": {},
   "outputs": [],
   "source": [
    "# number of elements should be same for using sklearn's jaccard_score\n",
    "language = {'English', 'Tamil', 'Hindi'}\n",
    "subject = {'English', 'Hindi', 'Telugu'}\n",
    "\n",
    "a = {1,2,3,4}\n",
    "b = {1,2,4,5}\n",
    "c = {0,2,5}\n",
    "d = {9, 8}\n",
    "\n",
    "a_b = 2 * len((a & b)) / (len(a) + len(b))\n",
    "b_c = 2 * len((b & c)) / (len(b) + len(c))\n",
    "a_c = 2 * len((a & c)) / (len(a) + len(c))\n",
    "a_d = 2 * len((a & d)) / (len(a) + len(d))\n",
    "\n",
    "print(\"Is sets a_b are similar ? :: \", a_b)\n",
    "print(\"Is sets b_c are similar ? :: \", b_c)\n",
    "print(\"Is sets a_c are similar ? :: \", a_c)\n",
    "print(\"Is sets a_c are similar ? :: \", a_d)\n",
    "\n",
    "print(\"--------------------------------\")\n"
   ]
  },
  {
   "cell_type": "markdown",
   "id": "da5ae57e-b764-4cb2-8e8c-0b327d1358eb",
   "metadata": {},
   "source": [
    "**Tversky index**\n",
    "* more general similarity measure that can be reduced to Jaccard similarity or Dice coefficent by adjusting the parameter.\n",
    "* Penality to false-positive and false-negative\n",
    "* Helps by providing way to incorporate penalities into the similarity system\n",
    "* **Jaccard (alpha=0.5, beta=2.0)** and **Sørensen-Dice (alpha=0.5, beta=1.0)**.\n",
    "  - Wiki : https://en.wikipedia.org/wiki/Tversky_index - implementation not working as mentioned\n",
    "  - ? (alpha=1, beta=1) for Jaccard similarity\n",
    "  - ? (alpha=0.5, beta=0.5) for Dice coefficient\n",
    "* Example\n",
    "  - In recommendation system, false negative (user may like but not rendered) may be more costly than false positives (Items which are like by the user, but user did not like)\n",
    "\n",
    "-----------------\n",
    "\n",
    "* Reference: https://www.akkio.com/post/precision-vs-recall-how-to-use-precision-and-recall-in-machine-learning-complete-guide#:~:text=They%20are%20both%20related%20to,correctly%20identified%20by%20the%20model.\n",
    "* An spam detecter classifier is provided with a data of 13 spams in the data set of 20 messages. It identifies 9 as spam and out of which only 4 are actual spam and remaining 5 are not spam.\n",
    "  - **Precision** : Out of identified how many were spam ? 4/9\n",
    "  - **Recal** : Out of all spams how many are identified ? 4/13\n",
    "\n",
    "- Reference:: https://developers.google.com/machine-learning/crash-course/classification/true-false-positive-negative#:~:text=Similarly%2C%20a%20true%20negative%20is,incorrectly%20predicts%20the%20negative%20class.\n",
    "- **True positive** : model correctly predicts the positive class.\n",
    "- **False positives** : model incorrectly predicts the positive class\n",
    "- **False negatives** : model incorrectly predicts the negative class\n",
    "- **True negatives** : model correctly predicts the negative class.\n"
   ]
  },
  {
   "cell_type": "code",
   "execution_count": null,
   "id": "7d3eb428-50e6-4db1-a9df-0d9e1ccf467a",
   "metadata": {},
   "outputs": [],
   "source": [
    "def jaccard_similarity(set1, set2):\n",
    "    a = len(set1.intersection(set2))\n",
    "    b = len(set1.union(set2))\n",
    "    return (a / b)\n",
    "\n",
    "def dice_coefficient(set1, set2):\n",
    "    return 2 * len((set1 & set2)) / (len(set1) + len(set2))\n",
    "\n",
    "#Reference : https://github.com/chartbeat-labs/textacy/blob/main/src/textacy/similarity/tokens.py\n",
    "def tversky_index(set1, set2, alpha, beta):\n",
    "    intersection = len(set1 & set2)\n",
    "\n",
    "    set1_not_set2 = len(set1 - set2)\n",
    "    set2_not_set1 = len(set2 - set1)\n",
    "    \n",
    "    a = min(set1_not_set2, set2_not_set1)\n",
    "    b = max(set1_not_set2, set2_not_set1)\n",
    "\n",
    "    try:        \n",
    "        return intersection / (intersection + (beta * (alpha * a + (1 - alpha) * b)))\n",
    "    except ZeroDivisionError:\n",
    "        return 0.0\n",
    "        \n",
    "animals = {'lion', 'cat', 'whale', 'snake', 'dog'}\n",
    "reptiles = {'snake'}\n",
    "domestic = {'dog', 'cat'}\n",
    "wild = {'lion', 'snake', 'tiger'}\n",
    "pet = {'cat', 'dog', 'parrot'}\n",
    "\n",
    "for x in [animals, reptiles, domestic, wild, pet]:\n",
    "    print(\"-----------\")\n",
    "    print(\"processing \", animals, \" and \", x)\n",
    "    print(\"tversky_index : \", tversky_index(animals, x, alpha=0.5, beta=2.0))\n",
    "    print(\"jaccard_similarity : \", jaccard_similarity(animals, x))\n",
    "\n",
    "for x in [animals, reptiles, domestic, wild, pet]:\n",
    "    print(\"-----------\")\n",
    "    print(\"processing \", animals, \" and \", x)\n",
    "    print(\"tversky_index : \", tversky_index(animals, x, alpha=0.5, beta=1.0))\n",
    "    print(\"dice_coefficient : \", dice_coefficient(animals, x))\n",
    "\n"
   ]
  },
  {
   "cell_type": "markdown",
   "id": "a8f6b10e-6f7c-44ad-ae04-e87f761a509e",
   "metadata": {},
   "source": [
    "### Multiple Set"
   ]
  },
  {
   "cell_type": "markdown",
   "id": "e226340f-f4b5-4e21-b3d1-1e38cde134ee",
   "metadata": {},
   "source": [
    "**Reduce**\n",
    "- **Apply function of two arguments cumulatively** to the items of iterable, from left to right, so as to **reduce the iterable to a single value**."
   ]
  },
  {
   "cell_type": "code",
   "execution_count": null,
   "id": "f29fe800-ef38-4f62-9993-071360e3088b",
   "metadata": {},
   "outputs": [],
   "source": [
    "from functools import reduce\n",
    "\n",
    "animals = {'lion', 'cat', 'whale', 'snake', 'dog'}\n",
    "reptiles = {'snake'}\n",
    "domestic = {'dog', 'cat'}\n",
    "wild = {'lion', 'snake', 'tiger'}\n",
    "pet = {'cat', 'dog', 'parrot'}\n",
    "\n",
    "print(\" Set reduced with union :\", reduce(set.union, [animals, reptiles, domestic, wild, pet]))\n",
    "print(\" Set reduced with intersection :\", reduce(set.intersection, [animals, domestic, pet]))\n",
    "print(\" Set reduced with intersection :\", reduce(set.difference, [animals, domestic, pet]))\n",
    "print(\" Set reduced with intersection :\", reduce(set.symmetric_difference, [animals, domestic, pet]))"
   ]
  },
  {
   "cell_type": "code",
   "execution_count": null,
   "id": "f88c62ee-b720-4443-aefd-307c0c67d94a",
   "metadata": {},
   "outputs": [],
   "source": []
  }
 ],
 "metadata": {
  "kernelspec": {
   "display_name": "Python 3 (ipykernel)",
   "language": "python",
   "name": "python3"
  },
  "language_info": {
   "codemirror_mode": {
    "name": "ipython",
    "version": 3
   },
   "file_extension": ".py",
   "mimetype": "text/x-python",
   "name": "python",
   "nbconvert_exporter": "python",
   "pygments_lexer": "ipython3",
   "version": "3.12.1"
  }
 },
 "nbformat": 4,
 "nbformat_minor": 5
}
